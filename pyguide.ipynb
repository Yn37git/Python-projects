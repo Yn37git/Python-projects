{
 "cells": [
  {
   "cell_type": "markdown",
   "id": "dcba6057",
   "metadata": {},
   "source": [
    "# Python guide"
   ]
  },
  {
   "cell_type": "markdown",
   "id": "ac1dbd41",
   "metadata": {},
   "source": [
    "# Operations\n",
    "+ normal operators with usual meaning :\n",
    "  +, -, /  for add, subtract, divide \n",
    "+ other operators\n",
    "  * $\\ast \\implies$ multiplication\n",
    "  * $\\ast\\ast \\implies$ exponential\n",
    "  * % $\\implies$ modulo i.e. gives remainder\n",
    "  * // $\\implies$ integer division i.e gives quotient"
   ]
  },
  {
   "cell_type": "code",
   "execution_count": 7,
   "id": "e3ef7be8",
   "metadata": {},
   "outputs": [
    {
     "data": {
      "text/plain": [
       "7"
      ]
     },
     "execution_count": 7,
     "metadata": {},
     "output_type": "execute_result"
    }
   ],
   "source": [
    "65//9 "
   ]
  },
  {
   "cell_type": "markdown",
   "id": "64491384",
   "metadata": {},
   "source": [
    "# strings"
   ]
  },
  {
   "cell_type": "code",
   "execution_count": 8,
   "id": "65984826",
   "metadata": {},
   "outputs": [
    {
     "data": {
      "text/plain": [
       "'This is a string'"
      ]
     },
     "execution_count": 8,
     "metadata": {},
     "output_type": "execute_result"
    }
   ],
   "source": [
    "'This is a string'"
   ]
  },
  {
   "cell_type": "code",
   "execution_count": 9,
   "id": "43250036",
   "metadata": {},
   "outputs": [
    {
     "data": {
      "text/plain": [
       "'this is also a string'"
      ]
     },
     "execution_count": 9,
     "metadata": {},
     "output_type": "execute_result"
    }
   ],
   "source": [
    "\"this is also a string\""
   ]
  },
  {
   "cell_type": "code",
   "execution_count": 10,
   "id": "973d7489",
   "metadata": {},
   "outputs": [
    {
     "data": {
      "text/plain": [
       "'this string'"
      ]
     },
     "execution_count": 10,
     "metadata": {},
     "output_type": "execute_result"
    }
   ],
   "source": [
    "'this' +' '+ 'string'"
   ]
  },
  {
   "cell_type": "code",
   "execution_count": 11,
   "id": "6080a18a",
   "metadata": {},
   "outputs": [
    {
     "data": {
      "text/plain": [
       "'this     string'"
      ]
     },
     "execution_count": 11,
     "metadata": {},
     "output_type": "execute_result"
    }
   ],
   "source": [
    "'this'+' '*5+'string'"
   ]
  },
  {
   "cell_type": "markdown",
   "id": "7324149b",
   "metadata": {},
   "source": [
    "Special characters : ' \" / \\ % etc cannot be used directly in strings"
   ]
  },
  {
   "cell_type": "code",
   "execution_count": 12,
   "id": "811742f8",
   "metadata": {},
   "outputs": [
    {
     "data": {
      "text/plain": [
       "\"these string's \""
      ]
     },
     "execution_count": 12,
     "metadata": {},
     "output_type": "execute_result"
    }
   ],
   "source": [
    "'these string\\'s ' # use \\ to start writing a special character"
   ]
  },
  {
   "cell_type": "markdown",
   "id": "35e1bad6",
   "metadata": {},
   "source": [
    "**Formating** in strings  \n",
    "format is use to input arguments to strings"
   ]
  },
  {
   "cell_type": "code",
   "execution_count": 13,
   "id": "a945a6d3",
   "metadata": {},
   "outputs": [
    {
     "data": {
      "text/plain": [
       "'hi I am Python , who are you'"
      ]
     },
     "execution_count": 13,
     "metadata": {},
     "output_type": "execute_result"
    }
   ],
   "source": [
    "'hi I am {0} , who are {1}'.format('Python','you') "
   ]
  },
  {
   "cell_type": "code",
   "execution_count": 14,
   "id": "11173de4",
   "metadata": {},
   "outputs": [],
   "source": [
    "x,y=(3.141592,2.718281)"
   ]
  },
  {
   "cell_type": "code",
   "execution_count": 15,
   "id": "d538b798",
   "metadata": {
    "scrolled": true
   },
   "outputs": [
    {
     "data": {
      "text/plain": [
       "'The value of pi is 3.141592'"
      ]
     },
     "execution_count": 15,
     "metadata": {},
     "output_type": "execute_result"
    }
   ],
   "source": [
    "'The value of {var} is {val}'.format(var='pi',val=x)"
   ]
  },
  {
   "cell_type": "code",
   "execution_count": 16,
   "id": "6c0c4020",
   "metadata": {
    "scrolled": true
   },
   "outputs": [
    {
     "data": {
      "text/plain": [
       "'The value of e is 2.7183'"
      ]
     },
     "execution_count": 16,
     "metadata": {},
     "output_type": "execute_result"
    }
   ],
   "source": [
    "s='The value of {var} is {val:0.4f}'.format(var='e',val=y) #:0.4f specifies 4 decimals after. f for float\n",
    "s"
   ]
  },
  {
   "cell_type": "code",
   "execution_count": 17,
   "id": "150d6514",
   "metadata": {},
   "outputs": [
    {
     "data": {
      "text/plain": [
       "('h', 'The ', 24)"
      ]
     },
     "execution_count": 17,
     "metadata": {},
     "output_type": "execute_result"
    }
   ],
   "source": [
    "s[1],s[0:4],len(s) #acts similar to lists but is immutable i.e. assigned values cannot be changed"
   ]
  },
  {
   "cell_type": "code",
   "execution_count": 18,
   "id": "207756cd",
   "metadata": {},
   "outputs": [
    {
     "data": {
      "text/plain": [
       "['The', 'value', 'of', 'e', 'is', '2.7183']"
      ]
     },
     "execution_count": 18,
     "metadata": {},
     "output_type": "execute_result"
    }
   ],
   "source": [
    "s1=s.split(' ') #splits by assined spacing and gives out a list\n",
    "s1"
   ]
  },
  {
   "cell_type": "code",
   "execution_count": 19,
   "id": "0eb724cd",
   "metadata": {},
   "outputs": [
    {
     "data": {
      "text/plain": [
       "['Th', ' valu', ' of ', ' is 2.7183']"
      ]
     },
     "execution_count": 19,
     "metadata": {},
     "output_type": "execute_result"
    }
   ],
   "source": [
    "s2=s.split('e')\n",
    "s2"
   ]
  },
  {
   "cell_type": "markdown",
   "id": "62888f1b",
   "metadata": {},
   "source": [
    "# Print statements"
   ]
  },
  {
   "cell_type": "code",
   "execution_count": 20,
   "id": "10c97e27",
   "metadata": {},
   "outputs": [
    {
     "name": "stdout",
     "output_type": "stream",
     "text": [
      "2.718281\n"
     ]
    }
   ],
   "source": [
    "print(y)"
   ]
  },
  {
   "cell_type": "code",
   "execution_count": 21,
   "id": "10c2e6fe",
   "metadata": {},
   "outputs": [
    {
     "name": "stdout",
     "output_type": "stream",
     "text": [
      "y = 2.718281\n"
     ]
    }
   ],
   "source": [
    "print('y =',y) # ' can aslo be replaced by \" "
   ]
  },
  {
   "cell_type": "code",
   "execution_count": 22,
   "id": "5c1d62a0",
   "metadata": {},
   "outputs": [
    {
     "name": "stdout",
     "output_type": "stream",
     "text": [
      "y = 2.718281 = y\n"
     ]
    }
   ],
   "source": [
    "print('y =',y,\"= y\")"
   ]
  },
  {
   "cell_type": "code",
   "execution_count": 23,
   "id": "02176b41",
   "metadata": {
    "scrolled": true
   },
   "outputs": [
    {
     "name": "stdout",
     "output_type": "stream",
     "text": [
      "y = 2.718281\n"
     ]
    }
   ],
   "source": [
    "print('y','=',y)"
   ]
  },
  {
   "cell_type": "code",
   "execution_count": 24,
   "id": "f456d852",
   "metadata": {
    "scrolled": true
   },
   "outputs": [
    {
     "name": "stdout",
     "output_type": "stream",
     "text": [
      "y..=..2.718281\n"
     ]
    }
   ],
   "source": [
    "print('y','=',y,sep='..') # sep parameter assigns seperation b/w strings "
   ]
  },
  {
   "cell_type": "code",
   "execution_count": 25,
   "id": "b3bc6774",
   "metadata": {
    "scrolled": true
   },
   "outputs": [
    {
     "name": "stdout",
     "output_type": "stream",
     "text": [
      "hi \n",
      "python\n"
     ]
    }
   ],
   "source": [
    "print('hi \\npython') #\\n for newline"
   ]
  },
  {
   "cell_type": "code",
   "execution_count": 26,
   "id": "55f84723",
   "metadata": {
    "scrolled": true
   },
   "outputs": [
    {
     "name": "stdout",
     "output_type": "stream",
     "text": [
      "hi\n",
      "python\n",
      "hi\n"
     ]
    }
   ],
   "source": [
    "print('hi','python','hi',sep='\\n') #\\n for newline"
   ]
  },
  {
   "cell_type": "code",
   "execution_count": 27,
   "id": "f6f888ed",
   "metadata": {
    "scrolled": false
   },
   "outputs": [
    {
     "name": "stdout",
     "output_type": "stream",
     "text": [
      "hi python hi"
     ]
    }
   ],
   "source": [
    "print('hi','python',end=' hi') #end for last statements"
   ]
  },
  {
   "cell_type": "code",
   "execution_count": 28,
   "id": "b3240664",
   "metadata": {
    "scrolled": true
   },
   "outputs": [
    {
     "name": "stdout",
     "output_type": "stream",
     "text": [
      "hi python\thi"
     ]
    }
   ],
   "source": [
    "print('hi','python\\t',end='hi') #\\t for tab i.e. long space"
   ]
  },
  {
   "cell_type": "code",
   "execution_count": 29,
   "id": "8d09b386",
   "metadata": {
    "scrolled": false
   },
   "outputs": [
    {
     "name": "stdout",
     "output_type": "stream",
     "text": [
      "hi 'python'\" hi"
     ]
    }
   ],
   "source": [
    "print('hi','\\'python\\'\"',end=' hi')"
   ]
  },
  {
   "cell_type": "code",
   "execution_count": 30,
   "id": "de124e24",
   "metadata": {
    "scrolled": false
   },
   "outputs": [
    {
     "name": "stdout",
     "output_type": "stream",
     "text": [
      "value of y = 2.7183\n"
     ]
    }
   ],
   "source": [
    "print('value of y = {:0.4f}'.format(y))"
   ]
  },
  {
   "cell_type": "markdown",
   "id": "6056bc71",
   "metadata": {},
   "source": [
    "#  Data structures"
   ]
  },
  {
   "cell_type": "markdown",
   "id": "385d69e5",
   "metadata": {},
   "source": [
    "## lists"
   ]
  },
  {
   "cell_type": "code",
   "execution_count": 31,
   "id": "b6ae933e",
   "metadata": {},
   "outputs": [],
   "source": [
    "empty_list=[]"
   ]
  },
  {
   "cell_type": "code",
   "execution_count": 32,
   "id": "d12ac4dc",
   "metadata": {},
   "outputs": [],
   "source": [
    "lis=[0,1,2,3]"
   ]
  },
  {
   "cell_type": "code",
   "execution_count": 33,
   "id": "4b1e48d9",
   "metadata": {},
   "outputs": [],
   "source": [
    "lis=range(4) # range(i,j,k) creates list of integers from i to j-1 with k spacing"
   ]
  },
  {
   "cell_type": "code",
   "execution_count": 34,
   "id": "32ab7277",
   "metadata": {},
   "outputs": [
    {
     "name": "stdout",
     "output_type": "stream",
     "text": [
      "range(0, 4)\n",
      "range(1, 5)\n"
     ]
    }
   ],
   "source": [
    "li=range(1,5)\n",
    "print(lis,li,sep='\\n')"
   ]
  },
  {
   "cell_type": "code",
   "execution_count": 35,
   "id": "14a61d08",
   "metadata": {},
   "outputs": [],
   "source": [
    "l=['hi','python',2,3.4,5+6j,True]"
   ]
  },
  {
   "cell_type": "code",
   "execution_count": 36,
   "id": "21677be6",
   "metadata": {},
   "outputs": [
    {
     "name": "stdout",
     "output_type": "stream",
     "text": [
      "hi\n",
      "python\n",
      "2\n",
      "3.4\n",
      "(5+6j)\n",
      "True\n"
     ]
    }
   ],
   "source": [
    "for i in l:\n",
    "    print(i)"
   ]
  },
  {
   "cell_type": "code",
   "execution_count": 37,
   "id": "42fc296a",
   "metadata": {},
   "outputs": [
    {
     "name": "stdout",
     "output_type": "stream",
     "text": [
      "hi\n"
     ]
    }
   ],
   "source": [
    "print(l[0]) #list index starts from 0"
   ]
  },
  {
   "cell_type": "code",
   "execution_count": 38,
   "id": "cca05d5a",
   "metadata": {},
   "outputs": [
    {
     "data": {
      "text/plain": [
       "['p', 'y', 't', 'h', 'o', 'n']"
      ]
     },
     "execution_count": 38,
     "metadata": {},
     "output_type": "execute_result"
    }
   ],
   "source": [
    "p=list(l[1]) #list() for string saperation to list\n",
    "p"
   ]
  },
  {
   "cell_type": "code",
   "execution_count": 39,
   "id": "92d2693d",
   "metadata": {},
   "outputs": [
    {
     "data": {
      "text/plain": [
       "2"
      ]
     },
     "execution_count": 39,
     "metadata": {},
     "output_type": "execute_result"
    }
   ],
   "source": [
    "m=[[1,2],[2,3]] #nested lists can be used to represent a matrix\n",
    "m[0][1]"
   ]
  },
  {
   "cell_type": "code",
   "execution_count": 40,
   "id": "e0e1464c",
   "metadata": {},
   "outputs": [
    {
     "data": {
      "text/plain": [
       "['hi', 'python', 2, 3.4, (5+6j), False]"
      ]
     },
     "execution_count": 40,
     "metadata": {},
     "output_type": "execute_result"
    }
   ],
   "source": [
    "l[5]=False #assignment changes the list i.e. LIST IS MUTABLE\n",
    "l"
   ]
  },
  {
   "cell_type": "code",
   "execution_count": 41,
   "id": "7dabae8e",
   "metadata": {},
   "outputs": [
    {
     "data": {
      "text/plain": [
       "[2, 3.4]"
      ]
     },
     "execution_count": 41,
     "metadata": {},
     "output_type": "execute_result"
    }
   ],
   "source": [
    "l1=l[2:4] #select multiple items by : argumnet\n",
    "l1"
   ]
  },
  {
   "cell_type": "code",
   "execution_count": 42,
   "id": "13a72972",
   "metadata": {},
   "outputs": [
    {
     "data": {
      "text/plain": [
       "['hi', 'python', 2, 3.4, (5+6j), False, 2, 3.4]"
      ]
     },
     "execution_count": 42,
     "metadata": {},
     "output_type": "execute_result"
    }
   ],
   "source": [
    "l2=l+l1\n",
    "l2"
   ]
  },
  {
   "cell_type": "code",
   "execution_count": 43,
   "id": "4d1faf6c",
   "metadata": {},
   "outputs": [
    {
     "data": {
      "text/plain": [
       "[2, 3.4, 2, 3.4, 'hi', 'python', 2, 3.4, (5+6j), False]"
      ]
     },
     "execution_count": 43,
     "metadata": {},
     "output_type": "execute_result"
    }
   ],
   "source": [
    "l2=2*l1+l\n",
    "l2"
   ]
  },
  {
   "cell_type": "code",
   "execution_count": 44,
   "id": "de6652ec",
   "metadata": {},
   "outputs": [
    {
     "data": {
      "text/plain": [
       "['p', 'y', 't', 'h']"
      ]
     },
     "execution_count": 44,
     "metadata": {},
     "output_type": "execute_result"
    }
   ],
   "source": [
    "p=p[:4]\n",
    "p"
   ]
  },
  {
   "cell_type": "code",
   "execution_count": 45,
   "id": "6640d2f4",
   "metadata": {},
   "outputs": [
    {
     "data": {
      "text/plain": [
       "(True, False)"
      ]
     },
     "execution_count": 45,
     "metadata": {},
     "output_type": "execute_result"
    }
   ],
   "source": [
    "'t' in p , 'o' in p"
   ]
  },
  {
   "cell_type": "code",
   "execution_count": 46,
   "id": "4170459c",
   "metadata": {},
   "outputs": [
    {
     "data": {
      "text/plain": [
       "10"
      ]
     },
     "execution_count": 46,
     "metadata": {},
     "output_type": "execute_result"
    }
   ],
   "source": [
    "len(l2) #len() gives number of items in list "
   ]
  },
  {
   "cell_type": "code",
   "execution_count": 47,
   "id": "0e5c7206",
   "metadata": {},
   "outputs": [
    {
     "data": {
      "text/plain": [
       "['p', 'y', 't', 'h', 'o']"
      ]
     },
     "execution_count": 47,
     "metadata": {},
     "output_type": "execute_result"
    }
   ],
   "source": [
    "p.append('o')\n",
    "p"
   ]
  },
  {
   "cell_type": "code",
   "execution_count": 48,
   "id": "afcc5b35",
   "metadata": {},
   "outputs": [
    {
     "data": {
      "text/plain": [
       "['p', 'y', 't', 'h', 'o', 'n', 'hi']"
      ]
     },
     "execution_count": 48,
     "metadata": {},
     "output_type": "execute_result"
    }
   ],
   "source": [
    "p.extend(['n','hi'])\n",
    "p"
   ]
  },
  {
   "cell_type": "code",
   "execution_count": 49,
   "id": "91363988",
   "metadata": {},
   "outputs": [
    {
     "data": {
      "text/plain": [
       "['hi', 'p', 'y', 't', 'h', 'o', 'n']"
      ]
     },
     "execution_count": 49,
     "metadata": {},
     "output_type": "execute_result"
    }
   ],
   "source": [
    "p.insert(0,p[-1])\n",
    "p.pop(-1)\n",
    "p"
   ]
  },
  {
   "cell_type": "markdown",
   "id": "f092f0b9",
   "metadata": {},
   "source": [
    "## tupels\n",
    "similar to list but immutable"
   ]
  },
  {
   "cell_type": "code",
   "execution_count": 50,
   "id": "a0383ea2",
   "metadata": {},
   "outputs": [
    {
     "data": {
      "text/plain": [
       "('hi', 'python', 2, 3.4, (5+6j), False)"
      ]
     },
     "execution_count": 50,
     "metadata": {},
     "output_type": "execute_result"
    }
   ],
   "source": [
    "t=tuple(l)\n",
    "t"
   ]
  },
  {
   "cell_type": "markdown",
   "id": "13e82c48",
   "metadata": {},
   "source": [
    "## sets\n",
    "they should have unique items and is unodered"
   ]
  },
  {
   "cell_type": "code",
   "execution_count": 52,
   "id": "7829d003",
   "metadata": {},
   "outputs": [
    {
     "name": "stdout",
     "output_type": "stream",
     "text": [
      "{1, (2+3j), 4.5, 'e'}\n"
     ]
    }
   ],
   "source": [
    "st={1,'e',2+3j,4.5}\n",
    "print(st)"
   ]
  },
  {
   "cell_type": "code",
   "execution_count": 53,
   "id": "0524c385",
   "metadata": {},
   "outputs": [],
   "source": [
    "st1=st.copy() # if copy is not used st1 and st will have same values\n",
    "st1.add('hi')"
   ]
  },
  {
   "cell_type": "code",
   "execution_count": 54,
   "id": "9d43cd4d",
   "metadata": {},
   "outputs": [
    {
     "name": "stdout",
     "output_type": "stream",
     "text": [
      "{1, 4.5, (2+3j), 'hi'}\n"
     ]
    }
   ],
   "source": [
    "st1.discard('e')\n",
    "print(st1)"
   ]
  },
  {
   "cell_type": "code",
   "execution_count": 55,
   "id": "8b0a2bde",
   "metadata": {},
   "outputs": [
    {
     "data": {
      "text/plain": [
       "{(2+3j), 1, 4.5, 'e', 'hi'}"
      ]
     },
     "execution_count": 55,
     "metadata": {},
     "output_type": "execute_result"
    }
   ],
   "source": [
    "st|st1 # | for union"
   ]
  },
  {
   "cell_type": "code",
   "execution_count": 56,
   "id": "986e5884",
   "metadata": {},
   "outputs": [
    {
     "data": {
      "text/plain": [
       "{(2+3j), 1, 4.5}"
      ]
     },
     "execution_count": 56,
     "metadata": {},
     "output_type": "execute_result"
    }
   ],
   "source": [
    "st&st1 #& for intersection"
   ]
  },
  {
   "cell_type": "markdown",
   "id": "5409b713",
   "metadata": {},
   "source": [
    "similarly: - for difference, ^ for symetric difference i.e (a-b U b-a)"
   ]
  },
  {
   "cell_type": "markdown",
   "id": "a1ddf14e",
   "metadata": {},
   "source": [
    "#  if and loops"
   ]
  },
  {
   "cell_type": "markdown",
   "id": "b1108a2f",
   "metadata": {},
   "source": [
    "## if esle elif statements:"
   ]
  },
  {
   "cell_type": "markdown",
   "id": "74fe16bb",
   "metadata": {},
   "source": [
    ">if (condition):  (dont forget ':' at end)\n",
    ">> things to do  \n",
    "\n",
    ">elif (condition):\n",
    ">>things to do  \n",
    "\n",
    ">else:\n",
    ">>things to do"
   ]
  },
  {
   "cell_type": "code",
   "execution_count": 57,
   "id": "d191cb3d",
   "metadata": {},
   "outputs": [
    {
     "name": "stdout",
     "output_type": "stream",
     "text": [
      "x =\n"
     ]
    },
    {
     "ename": "ValueError",
     "evalue": "could not convert string to float: ''",
     "output_type": "error",
     "traceback": [
      "\u001b[0;31m---------------------------------------------------------------------------\u001b[0m",
      "\u001b[0;31mValueError\u001b[0m                                Traceback (most recent call last)",
      "Cell \u001b[0;32mIn[57], line 2\u001b[0m\n\u001b[1;32m      1\u001b[0m \u001b[38;5;66;03m#eg\u001b[39;00m\n\u001b[0;32m----> 2\u001b[0m x\u001b[38;5;241m=\u001b[39m\u001b[38;5;28mfloat\u001b[39m(\u001b[38;5;28minput\u001b[39m(\u001b[38;5;124m'\u001b[39m\u001b[38;5;124mx =\u001b[39m\u001b[38;5;124m'\u001b[39m))\n\u001b[1;32m      3\u001b[0m \u001b[38;5;28;01mif\u001b[39;00m x\u001b[38;5;241m>\u001b[39m\u001b[38;5;241m0\u001b[39m:\n\u001b[1;32m      4\u001b[0m     \u001b[38;5;28mprint\u001b[39m(\u001b[38;5;124m'\u001b[39m\u001b[38;5;124mx is positive\u001b[39m\u001b[38;5;124m'\u001b[39m)\n",
      "\u001b[0;31mValueError\u001b[0m: could not convert string to float: ''"
     ]
    }
   ],
   "source": [
    "#eg\n",
    "x=float(input('x ='))\n",
    "if x>0:\n",
    "    print('x is positive')\n",
    "elif x==0:\n",
    "    print('x = 0')\n",
    "else:\n",
    "    print('x is negative')"
   ]
  },
  {
   "cell_type": "markdown",
   "id": "207d74dd",
   "metadata": {},
   "source": [
    "## for loop:  \n",
    ">for (conditions) :  (dont forget ':' at end)\n",
    ">>things to do  \n",
    ">>update in variables"
   ]
  },
  {
   "cell_type": "code",
   "execution_count": 58,
   "id": "d43ab1b9",
   "metadata": {},
   "outputs": [
    {
     "name": "stdout",
     "output_type": "stream",
     "text": [
      "1\n",
      "2\n",
      "3\n",
      "4\n",
      "5\n",
      "6\n"
     ]
    }
   ],
   "source": [
    "x=[1,2,3,4,5,6] #this is a list\n",
    "for i in x:\n",
    "    print(i)"
   ]
  },
  {
   "cell_type": "code",
   "execution_count": 59,
   "id": "6c29fb79",
   "metadata": {
    "scrolled": false
   },
   "outputs": [
    {
     "name": "stdout",
     "output_type": "stream",
     "text": [
      "0\n",
      "1\n",
      "2\n",
      "3\n",
      "4\n",
      "5\n",
      "6\n"
     ]
    }
   ],
   "source": [
    "for x in range(7):  #range(i,j)=[i,i+1,....,j-1] , range(i)=[0,1,2....,i-1]\n",
    "    print(x)"
   ]
  },
  {
   "cell_type": "markdown",
   "id": "67b1a332",
   "metadata": {},
   "source": [
    "## while loop"
   ]
  },
  {
   "cell_type": "markdown",
   "id": "1a686148",
   "metadata": {},
   "source": [
    ">while (condition): \n",
    ">> things to do while condition is true<br>\n",
    ">>change in variable"
   ]
  },
  {
   "cell_type": "code",
   "execution_count": 62,
   "id": "85e77a06",
   "metadata": {
    "scrolled": true
   },
   "outputs": [
    {
     "name": "stdout",
     "output_type": "stream",
     "text": [
      "4\n",
      "3\n",
      "2\n",
      "1\n"
     ]
    }
   ],
   "source": [
    "x=4\n",
    "while x>0:\n",
    "    print(x)\n",
    "    x=x-1"
   ]
  },
  {
   "cell_type": "code",
   "execution_count": 65,
   "id": "d2b40cc8",
   "metadata": {},
   "outputs": [
    {
     "name": "stdout",
     "output_type": "stream",
     "text": [
      "3\n",
      "2\n",
      "1\n",
      "0\n",
      "-1\n"
     ]
    }
   ],
   "source": [
    "# use break to break the loop arbitrarily if condition holds\n",
    "x=3\n",
    "while (x!=-10):\n",
    "    print (x)\n",
    "    if x<0:\n",
    "        break\n",
    "    x=x-1"
   ]
  },
  {
   "cell_type": "markdown",
   "id": "5e7ca594",
   "metadata": {},
   "source": [
    "# input statements"
   ]
  },
  {
   "cell_type": "code",
   "execution_count": 60,
   "id": "68f53819",
   "metadata": {},
   "outputs": [
    {
     "name": "stdout",
     "output_type": "stream",
     "text": [
      "give value for x dsd\n",
      "dsd\n"
     ]
    }
   ],
   "source": [
    "x= input('give value for x ') # here input ('statement') displays statement and take the entered value as x\n",
    "print(x) # by defualt it is stored as string"
   ]
  },
  {
   "cell_type": "code",
   "execution_count": 61,
   "id": "fd1f7746",
   "metadata": {
    "scrolled": true
   },
   "outputs": [
    {
     "name": "stdout",
     "output_type": "stream",
     "text": [
      "x=4\n"
     ]
    }
   ],
   "source": [
    "# to convert to other type use int() for integers float() for real numbers\n",
    "x=int(input('x='))"
   ]
  }
 ],
 "metadata": {
  "kernelspec": {
   "display_name": "Python 3 (ipykernel)",
   "language": "python",
   "name": "python3"
  },
  "language_info": {
   "codemirror_mode": {
    "name": "ipython",
    "version": 3
   },
   "file_extension": ".py",
   "mimetype": "text/x-python",
   "name": "python",
   "nbconvert_exporter": "python",
   "pygments_lexer": "ipython3",
   "version": "3.10.12"
  }
 },
 "nbformat": 4,
 "nbformat_minor": 5
}
