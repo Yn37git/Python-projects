{
 "cells": [
  {
   "cell_type": "code",
   "execution_count": 42,
   "id": "169d48e1",
   "metadata": {
    "scrolled": true
   },
   "outputs": [],
   "source": [
    "# simple regex code to read the input and store them\n",
    "\n",
    "import re\n",
    "\n",
    "def thm_statmen():\n",
    "    thm=input('Write theorem statement\\n \\nTheorem : ') \n",
    "    p_of_term = re.compile(r'p\\((.*)\\)',re.I)                # for p(<->) terms\n",
    "    p_n_term=re.compile(r'(\\+|\\-)?\\s*(\\d+)\\D\\^?(\\d+)?',re.I) # for n^a+bm^c+... terms in p(<->)\n",
    "    last_term=re.compile(r'(\\+|\\-)\\s*(\\d+)$')                # for +d last term in p(<->)\n",
    "    lhs_term=re.compile(r'=(.*)')                            # for = rhs term\n",
    "    modstat=re.compile(r'(\\d+)\\s*mod\\s*(\\d+)',re.I)          # for x mod y term after = \n",
    "    \n",
    "    p=p_of_term.search(thm).groups()\n",
    "    q=lhs_term.search(thm).groups()                    \n",
    "    r=p_n_term.findall(p[0])\n",
    "    s=last_term.findall(p[0])\n",
    "    t=modstat.findall(q[0])\n",
    "           \n",
    "    return[p,q,r,s,t]\n"
   ]
  },
  {
   "cell_type": "code",
   "execution_count": 43,
   "id": "dd3c2a52",
   "metadata": {},
   "outputs": [],
   "source": [
    "'''partition function that generates partitions  and returns a list of them till n (input) using eulers algoritm'''\n",
    "\n",
    "def efparti(n):\n",
    "    pat=[1,1,2,3,5,7,11]\n",
    "    n=int(n)\n",
    "    if n<0  :\n",
    "        return 0 \n",
    "    elif n<7:\n",
    "        return pat[n]\n",
    "    else:\n",
    "        pt=pat\n",
    "        for j in range (7,n+1):\n",
    "            P=0\n",
    "            \n",
    "            for i in range (1,j+1):\n",
    "                k1=int((i*(3*i+1))/2)\n",
    "                k2=int((i*(3*i-1))/2)\n",
    "                if j-k1<0 and j-k2 <0:\n",
    "                    break\n",
    "                elif j-k1<0 :\n",
    "                    P+=((-1)**(i+1))*(pt[j-k2])\n",
    "                elif j-k2<0 :\n",
    "                    P+=((-1)**(i+1))*(pt[j-k1])\n",
    "                else:\n",
    "                    P+=((-1)**(i+1))*(pt[j-k1]+pt[j-k2]) # eulers formula iteration\n",
    "\n",
    "            pt.append(P)\n",
    "        return pt \n",
    "    "
   ]
  },
  {
   "cell_type": "code",
   "execution_count": 44,
   "id": "0c2d0cad",
   "metadata": {
    "scrolled": true
   },
   "outputs": [],
   "source": [
    "# this function convert the input to correct (int) types required for testing\n",
    "def nrml(X): \n",
    "    y=[]\n",
    "    for x in X:\n",
    "        if x=='':\n",
    "            y.append(1)\n",
    "        else:\n",
    "            try :\n",
    "                y.append(int(x))\n",
    "            except:\n",
    "                y.append(x)\n",
    "    return y"
   ]
  },
  {
   "cell_type": "code",
   "execution_count": 45,
   "id": "b987bd87",
   "metadata": {},
   "outputs": [],
   "source": [
    " # main function to test the given theorem \n",
    "    \n",
    "def pf_fntn(n,pof=[],lpof=[],tpof=[],pf_set=[]):\n",
    "    try:\n",
    "        tm=pof[1]\n",
    "    \n",
    "        if pof[0]=='-':\n",
    "            tm=tm*-1\n",
    "\n",
    "        tm1=n**(pof[2])\n",
    "        tm=tm*tm1\n",
    "        tm2=lpof[1]\n",
    "\n",
    "        if lpof[0]=='-':\n",
    "            tm2=tm2*-1\n",
    "        tm=int(tm+tm2)\n",
    "        \n",
    "        #above steps essentially convert n to p(<->) input statement as given in input Theorem\n",
    "        \n",
    "        ptm=pf_set[tm]\n",
    "        \n",
    "        if ptm%tpof[1]==tpof[0]: # main step compare the lhs and rhs\n",
    "            \n",
    "            return False  # because we use filter() to find exceptions so value is negated\n",
    "        else:\n",
    "            return True\n",
    "    \n",
    "    except:\n",
    "        return True\n",
    "    "
   ]
  },
  {
   "cell_type": "code",
   "execution_count": 46,
   "id": "3a190ebf",
   "metadata": {},
   "outputs": [],
   "source": [
    "''' this function outputs l which has desired length so that index of pf_set doesnt run out '''\n",
    "\n",
    "from math import floor\n",
    "def limftn(pof=[],lpof=[],tpof=[],pf_set=[]):\n",
    "    try :\n",
    "        tm=pof[1]\n",
    "\n",
    "        if pof[0]=='-':\n",
    "            tm=tm*-1\n",
    "            \n",
    "        tm2=lpof[1]\n",
    "        if lpof[0]=='-':\n",
    "                tm2=tm2*-1\n",
    "        \n",
    "        ll=len(pf_set)\n",
    "        k=((ll-tm2)/tm)**(1/pof[2]) \n",
    "        k=floor(k)\n",
    "        l=list(range(1,k+1))\n",
    "\n",
    "        return l\n",
    "    except:\n",
    "        return []"
   ]
  },
  {
   "cell_type": "code",
   "execution_count": 47,
   "id": "57140dd7",
   "metadata": {},
   "outputs": [
    {
     "name": "stdout",
     "output_type": "stream",
     "text": [
      "enter a positive integer till which partition the theorem should be observed\n",
      "100000\n"
     ]
    }
   ],
   "source": [
    "''' load the desired number of partitions to verfiy the Theorem for '''\n",
    "try:\n",
    "    trn=int(input('enter a positive integer till which partition the theorem should be observed\\n')) \n",
    "    #trn = test set length i.e will check upto trn partitions\n",
    "    \n",
    "    pf_set=efparti(trn)\n",
    "    \n",
    "    if trn<=0:\n",
    "        raise Exception('enter a positive integer only, try again\\n')\n",
    "    pf_set=efparti(trn)\n",
    "    #print(len(pf_set))\n",
    "except:\n",
    "    print('\\nenter a positive integer only, try again\\n')"
   ]
  },
  {
   "cell_type": "code",
   "execution_count": 48,
   "id": "d50954e8",
   "metadata": {
    "scrolled": true
   },
   "outputs": [
    {
     "name": "stdout",
     "output_type": "stream",
     "text": [
      "Write theorem statement\n",
      " \n",
      "Theorem : is p(11n+6)=0mod11 true or false\n",
      "\n",
      "yay! 'p(11n+6) = 0 mod 11' seems to be true till partitions of 100000\n"
     ]
    }
   ],
   "source": [
    "# main module combinig all above blocks\n",
    "try:\n",
    "    p,q,r,s,t=thm_statmen()\n",
    "    \n",
    "    pof=nrml(r[0])\n",
    "    lpof=nrml(s[0])\n",
    "    tpof=nrml(t[0])\n",
    "    \n",
    "    pfl=limftn(pof,lpof,tpof,pf_set)\n",
    "\n",
    "    pf_pf=list(filter(lambda x : pf_fntn(x,pof,lpof,tpof,pf_set),pfl))\n",
    "    \n",
    "    if len(pf_pf)==0:\n",
    "        print(f'\\nyay! \\'p({p[0]}) = {t[0][0]} mod {t[0][1]}\\' seems to be true till partitions of {trn}')\n",
    "    else:\n",
    "        print(f'\\noops for variable = {pf_pf[0]} (etc.) the theorem \\'p({p[0]}) = {q[0]}\\' is not true ')\n",
    "except:\n",
    "     print('\\n write theorem statement in form \\'p(an^t+b) = c mod d\\' for a,b,c,d,t non-negative integers')"
   ]
  }
 ],
 "metadata": {
  "kernelspec": {
   "display_name": "Python 3 (ipykernel)",
   "language": "python",
   "name": "python3"
  },
  "language_info": {
   "codemirror_mode": {
    "name": "ipython",
    "version": 3
   },
   "file_extension": ".py",
   "mimetype": "text/x-python",
   "name": "python",
   "nbconvert_exporter": "python",
   "pygments_lexer": "ipython3",
   "version": "3.11.4"
  }
 },
 "nbformat": 4,
 "nbformat_minor": 5
}
