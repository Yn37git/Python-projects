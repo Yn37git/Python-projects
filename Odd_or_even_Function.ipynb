{
 "cells": [
  {
   "cell_type": "markdown",
   "id": "f361ed9f",
   "metadata": {},
   "source": [
    "# A simple function to check the given input function is even function or odd function or none\n",
    "- A function $f$ is even if $f(x)=f(-x)$.\n",
    "- A function $f$ is odd if $f(x)=-f(-x)$.\n",
    "- We use random numbers as inputs for the input functions and compare the outputs to find the type mentioned above\n",
    "- This in a way is trivial and some times (a very very ... less propable) may not work. \n",
    "- for eg: $sin$ is an odd function but by some possibility our random numbers are chosen so as $sin$ is zero at all points or as we are using sets to compare if every positive output has a negative output (i.e for $n$ another $-n$) in the same set of outputs then the function returns input function as both odd and even.  "
   ]
  },
  {
   "cell_type": "code",
   "execution_count": 42,
   "id": "7005dc55",
   "metadata": {},
   "outputs": [
    {
     "name": "stdout",
     "output_type": "stream",
     "text": [
      "<ufunc 'sin'> is an odd function\n",
      "<ufunc 'cos'> is an even function\n",
      "<function I at 0x7f888c09a7a0> is an odd function\n",
      "<function I_2 at 0x7f888c09af20> is an even function\n",
      "<ufunc 'tanh'> is an odd function\n",
      "<ufunc 'cosh'> is an even function\n",
      "<ufunc 'sinh'> is an odd function\n",
      "<ufunc 'exp'> is neither even nor odd function\n",
      "<built-in function abs> is an even function\n"
     ]
    }
   ],
   "source": [
    "import numpy as np\n",
    "import random \n",
    "def even_or_odd_func(f):\n",
    "    x=100*np.random.random_sample(size=10) #random 10 values are chosen here for checking\n",
    "    ptive=set(map(f,x)) # using map to map all random valuse by input function\n",
    "    ntive=set(map(f,-x))\n",
    "    nntive=set([-n for n in ntive])\n",
    "    if ptive==ntive:\n",
    "        return '{fn} is an even function'.format(fn=f)\n",
    "    elif ptive == nntive:\n",
    "        return '{fn} is an odd function'.format(fn=f)\n",
    "    else:\n",
    "        return '{fn} is neither even nor odd function'.format(fn=f)\n",
    "# notice that even_or_odd_func() is a higher order function \n",
    "def I(x): # identity function\n",
    "    return x\n",
    "def I_2(x): # square function\n",
    "    return x*x\n",
    "ftns=[np.sin,np.cos,I,I_2,np.tanh,np.cosh,np.sinh,np.exp,abs] \n",
    "eo_fnts=list(map(even_or_odd_func,ftns))\n",
    "for i in eo_fnts:\n",
    "    print(i)"
   ]
  }
 ],
 "metadata": {
  "kernelspec": {
   "display_name": "Python 3 (ipykernel)",
   "language": "python",
   "name": "python3"
  },
  "language_info": {
   "codemirror_mode": {
    "name": "ipython",
    "version": 3
   },
   "file_extension": ".py",
   "mimetype": "text/x-python",
   "name": "python",
   "nbconvert_exporter": "python",
   "pygments_lexer": "ipython3",
   "version": "3.11.4"
  }
 },
 "nbformat": 4,
 "nbformat_minor": 5
}
