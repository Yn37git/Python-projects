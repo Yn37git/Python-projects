{
 "cells": [
  {
   "cell_type": "markdown",
   "id": "dcba6057",
   "metadata": {},
   "source": [
    "# Python guide"
   ]
  },
  {
   "cell_type": "markdown",
   "id": "ac1dbd41",
   "metadata": {},
   "source": [
    "# Operations\n",
    "+ normal operators with usual meaning :\n",
    "  +, -, /  for add, subtract, divide \n",
    "+ other operators\n",
    "  * $\\ast \\implies$ multiplication\n",
    "  * $\\ast\\ast \\implies$ exponential\n",
    "  * % $\\implies$ modulo i.e. gives remainder\n",
    "  * // $\\implies$ integer division i.e gives quotient"
   ]
  },
  {
   "cell_type": "code",
   "execution_count": 7,
   "id": "e3ef7be8",
   "metadata": {},
   "outputs": [
    {
     "data": {
      "text/plain": [
       "7"
      ]
     },
     "execution_count": 7,
     "metadata": {},
     "output_type": "execute_result"
    }
   ],
   "source": [
    "65//9 "
   ]
  },
  {
   "cell_type": "markdown",
   "id": "64491384",
   "metadata": {},
   "source": [
    "# strings"
   ]
  },
  {
   "cell_type": "code",
   "execution_count": 8,
   "id": "65984826",
   "metadata": {},
   "outputs": [
    {
     "data": {
      "text/plain": [
       "'This is a string'"
      ]
     },
     "execution_count": 8,
     "metadata": {},
     "output_type": "execute_result"
    }
   ],
   "source": [
    "'This is a string'"
   ]
  },
  {
   "cell_type": "code",
   "execution_count": 9,
   "id": "43250036",
   "metadata": {},
   "outputs": [
    {
     "data": {
      "text/plain": [
       "'this is also a string'"
      ]
     },
     "execution_count": 9,
     "metadata": {},
     "output_type": "execute_result"
    }
   ],
   "source": [
    "\"this is also a string\""
   ]
  },
  {
   "cell_type": "code",
   "execution_count": 10,
   "id": "973d7489",
   "metadata": {},
   "outputs": [
    {
     "data": {
      "text/plain": [
       "'this string'"
      ]
     },
     "execution_count": 10,
     "metadata": {},
     "output_type": "execute_result"
    }
   ],
   "source": [
    "'this' +' '+ 'string'"
   ]
  },
  {
   "cell_type": "code",
   "execution_count": 11,
   "id": "6080a18a",
   "metadata": {},
   "outputs": [
    {
     "data": {
      "text/plain": [
       "'this     string'"
      ]
     },
     "execution_count": 11,
     "metadata": {},
     "output_type": "execute_result"
    }
   ],
   "source": [
    "'this'+' '*5+'string'"
   ]
  },
  {
   "cell_type": "markdown",
   "id": "7324149b",
   "metadata": {},
   "source": [
    "Special characters : ' \" / \\ % etc cannot be used directly in strings"
   ]
  },
  {
   "cell_type": "code",
   "execution_count": 12,
   "id": "811742f8",
   "metadata": {},
   "outputs": [
    {
     "data": {
      "text/plain": [
       "\"these string's \""
      ]
     },
     "execution_count": 12,
     "metadata": {},
     "output_type": "execute_result"
    }
   ],
   "source": [
    "'these string\\'s ' # use \\ to start writing a special character"
   ]
  },
  {
   "cell_type": "markdown",
   "id": "35e1bad6",
   "metadata": {},
   "source": [
    "**Formating** in strings  \n",
    "format is use to input arguments to strings"
   ]
  },
  {
   "cell_type": "code",
   "execution_count": 50,
   "id": "a945a6d3",
   "metadata": {},
   "outputs": [
    {
     "data": {
      "text/plain": [
       "'hi I am Python , who are you'"
      ]
     },
     "execution_count": 50,
     "metadata": {},
     "output_type": "execute_result"
    }
   ],
   "source": [
    "'hi I am {0} , who are {1}'.format('Python','you') "
   ]
  },
  {
   "cell_type": "code",
   "execution_count": 51,
   "id": "11173de4",
   "metadata": {},
   "outputs": [],
   "source": [
    "x,y=(3.141592,2.718281)"
   ]
  },
  {
   "cell_type": "code",
   "execution_count": 52,
   "id": "d538b798",
   "metadata": {
    "scrolled": true
   },
   "outputs": [
    {
     "data": {
      "text/plain": [
       "'The value of pi is 3.141592'"
      ]
     },
     "execution_count": 52,
     "metadata": {},
     "output_type": "execute_result"
    }
   ],
   "source": [
    "'The value of {var} is {val}'.format(var='pi',val=x)"
   ]
  },
  {
   "cell_type": "code",
   "execution_count": 53,
   "id": "6c0c4020",
   "metadata": {
    "scrolled": true
   },
   "outputs": [
    {
     "data": {
      "text/plain": [
       "'The value of e is 2.7183'"
      ]
     },
     "execution_count": 53,
     "metadata": {},
     "output_type": "execute_result"
    }
   ],
   "source": [
    "s='The value of {var} is {val:0.4f}'.format(var='e',val=y) #:0.4f specifies 4 decimals after. f for float\n",
    "s"
   ]
  },
  {
   "cell_type": "code",
   "execution_count": 54,
   "id": "150d6514",
   "metadata": {},
   "outputs": [
    {
     "data": {
      "text/plain": [
       "('h', 'The ', 24)"
      ]
     },
     "execution_count": 54,
     "metadata": {},
     "output_type": "execute_result"
    }
   ],
   "source": [
    "s[1],s[0:4],len(s) #acts similar to lists but is immutable i.e. assigned values cannot be changed"
   ]
  },
  {
   "cell_type": "code",
   "execution_count": 55,
   "id": "207756cd",
   "metadata": {},
   "outputs": [
    {
     "data": {
      "text/plain": [
       "['The', 'value', 'of', 'e', 'is', '2.7183']"
      ]
     },
     "execution_count": 55,
     "metadata": {},
     "output_type": "execute_result"
    }
   ],
   "source": [
    "s1=s.split(' ') #splits by assined spacing and gives out a list\n",
    "s1"
   ]
  },
  {
   "cell_type": "code",
   "execution_count": 56,
   "id": "0eb724cd",
   "metadata": {},
   "outputs": [
    {
     "data": {
      "text/plain": [
       "['Th', ' valu', ' of ', ' is 2.7183']"
      ]
     },
     "execution_count": 56,
     "metadata": {},
     "output_type": "execute_result"
    }
   ],
   "source": [
    "s2=s.split('e')\n",
    "s2"
   ]
  },
  {
   "cell_type": "markdown",
   "id": "62888f1b",
   "metadata": {},
   "source": [
    "# Print statements"
   ]
  },
  {
   "cell_type": "code",
   "execution_count": 57,
   "id": "10c97e27",
   "metadata": {},
   "outputs": [
    {
     "name": "stdout",
     "output_type": "stream",
     "text": [
      "2.718281\n"
     ]
    }
   ],
   "source": [
    "print(y)"
   ]
  },
  {
   "cell_type": "code",
   "execution_count": 58,
   "id": "10c2e6fe",
   "metadata": {},
   "outputs": [
    {
     "name": "stdout",
     "output_type": "stream",
     "text": [
      "y = 2.718281\n"
     ]
    }
   ],
   "source": [
    "print('y =',y) # ' can aslo be replaced by \" "
   ]
  },
  {
   "cell_type": "code",
   "execution_count": 59,
   "id": "5c1d62a0",
   "metadata": {},
   "outputs": [
    {
     "name": "stdout",
     "output_type": "stream",
     "text": [
      "y = 2.718281 = y\n"
     ]
    }
   ],
   "source": [
    "print('y =',y,\"= y\")"
   ]
  },
  {
   "cell_type": "code",
   "execution_count": 60,
   "id": "02176b41",
   "metadata": {
    "scrolled": true
   },
   "outputs": [
    {
     "name": "stdout",
     "output_type": "stream",
     "text": [
      "y = 2.718281\n"
     ]
    }
   ],
   "source": [
    "print('y','=',y)"
   ]
  },
  {
   "cell_type": "code",
   "execution_count": 61,
   "id": "f456d852",
   "metadata": {
    "scrolled": true
   },
   "outputs": [
    {
     "name": "stdout",
     "output_type": "stream",
     "text": [
      "y..=..2.718281\n"
     ]
    }
   ],
   "source": [
    "print('y','=',y,sep='..') # sep parameter assigns seperation b/w strings "
   ]
  },
  {
   "cell_type": "code",
   "execution_count": 62,
   "id": "b3bc6774",
   "metadata": {
    "scrolled": true
   },
   "outputs": [
    {
     "name": "stdout",
     "output_type": "stream",
     "text": [
      "hi \n",
      "python\n"
     ]
    }
   ],
   "source": [
    "print('hi \\npython') #\\n for newline"
   ]
  },
  {
   "cell_type": "code",
   "execution_count": 63,
   "id": "55f84723",
   "metadata": {
    "scrolled": true
   },
   "outputs": [
    {
     "name": "stdout",
     "output_type": "stream",
     "text": [
      "hi\n",
      "python\n",
      "hi\n"
     ]
    }
   ],
   "source": [
    "print('hi','python','hi',sep='\\n') #\\n for newline"
   ]
  },
  {
   "cell_type": "code",
   "execution_count": 64,
   "id": "f6f888ed",
   "metadata": {
    "scrolled": false
   },
   "outputs": [
    {
     "name": "stdout",
     "output_type": "stream",
     "text": [
      "hi python hi"
     ]
    }
   ],
   "source": [
    "print('hi','python',end=' hi') #end for last statements"
   ]
  },
  {
   "cell_type": "code",
   "execution_count": 65,
   "id": "b3240664",
   "metadata": {
    "scrolled": true
   },
   "outputs": [
    {
     "name": "stdout",
     "output_type": "stream",
     "text": [
      "hi python\thi"
     ]
    }
   ],
   "source": [
    "print('hi','python\\t',end='hi') #\\t for tab i.e. long space"
   ]
  },
  {
   "cell_type": "code",
   "execution_count": 66,
   "id": "8d09b386",
   "metadata": {
    "scrolled": false
   },
   "outputs": [
    {
     "name": "stdout",
     "output_type": "stream",
     "text": [
      "hi 'python'\" hi"
     ]
    }
   ],
   "source": [
    "print('hi','\\'python\\'\"',end=' hi')"
   ]
  },
  {
   "cell_type": "code",
   "execution_count": 67,
   "id": "de124e24",
   "metadata": {
    "scrolled": true
   },
   "outputs": [
    {
     "name": "stdout",
     "output_type": "stream",
     "text": [
      "value of y = 2.7183\n"
     ]
    }
   ],
   "source": [
    "print('value of y = {:0.4f}'.format(y))"
   ]
  },
  {
   "cell_type": "code",
   "execution_count": 68,
   "id": "2f21f62f",
   "metadata": {},
   "outputs": [
    {
     "name": "stdout",
     "output_type": "stream",
     "text": [
      "y =2.718281\n"
     ]
    }
   ],
   "source": [
    "print(f'y ={y}')"
   ]
  },
  {
   "cell_type": "code",
   "execution_count": 73,
   "id": "1465f118",
   "metadata": {},
   "outputs": [
    {
     "name": "stdout",
     "output_type": "stream",
     "text": [
      "This is a string only not 2.718281\n"
     ]
    }
   ],
   "source": [
    "t='This is a string'\n",
    "print(f\"{t} only not {y}\")"
   ]
  },
  {
   "cell_type": "markdown",
   "id": "6056bc71",
   "metadata": {},
   "source": [
    "#  Data structures"
   ]
  },
  {
   "cell_type": "markdown",
   "id": "385d69e5",
   "metadata": {},
   "source": [
    "## lists"
   ]
  },
  {
   "cell_type": "code",
   "execution_count": 1,
   "id": "b6ae933e",
   "metadata": {},
   "outputs": [],
   "source": [
    "empty_list=[]"
   ]
  },
  {
   "cell_type": "code",
   "execution_count": 2,
   "id": "d12ac4dc",
   "metadata": {},
   "outputs": [],
   "source": [
    "lis=[0,1,2,3]"
   ]
  },
  {
   "cell_type": "code",
   "execution_count": 3,
   "id": "4b1e48d9",
   "metadata": {},
   "outputs": [],
   "source": [
    "lis=range(4) # range(i,j,k) creates list of integers from i to j-1 with k spacing"
   ]
  },
  {
   "cell_type": "code",
   "execution_count": 4,
   "id": "32ab7277",
   "metadata": {},
   "outputs": [
    {
     "name": "stdout",
     "output_type": "stream",
     "text": [
      "range(0, 4)\n",
      "range(1, 5)\n"
     ]
    }
   ],
   "source": [
    "li=range(1,5)\n",
    "print(lis,li,sep='\\n')"
   ]
  },
  {
   "cell_type": "code",
   "execution_count": 5,
   "id": "14a61d08",
   "metadata": {},
   "outputs": [],
   "source": [
    "l=['hi','python',2,3.4,5+6j,True]"
   ]
  },
  {
   "cell_type": "code",
   "execution_count": 6,
   "id": "21677be6",
   "metadata": {},
   "outputs": [
    {
     "name": "stdout",
     "output_type": "stream",
     "text": [
      "hi\n",
      "python\n",
      "2\n",
      "3.4\n",
      "(5+6j)\n",
      "True\n"
     ]
    }
   ],
   "source": [
    "for i in l:\n",
    "    print(i)"
   ]
  },
  {
   "cell_type": "code",
   "execution_count": 7,
   "id": "42fc296a",
   "metadata": {},
   "outputs": [
    {
     "name": "stdout",
     "output_type": "stream",
     "text": [
      "hi\n"
     ]
    }
   ],
   "source": [
    "print(l[0]) #list index starts from 0"
   ]
  },
  {
   "cell_type": "code",
   "execution_count": 8,
   "id": "cca05d5a",
   "metadata": {},
   "outputs": [
    {
     "data": {
      "text/plain": [
       "['p', 'y', 't', 'h', 'o', 'n']"
      ]
     },
     "execution_count": 8,
     "metadata": {},
     "output_type": "execute_result"
    }
   ],
   "source": [
    "p=list(l[1]) #list() for string saperation to list\n",
    "p"
   ]
  },
  {
   "cell_type": "code",
   "execution_count": 9,
   "id": "92d2693d",
   "metadata": {},
   "outputs": [
    {
     "data": {
      "text/plain": [
       "2"
      ]
     },
     "execution_count": 9,
     "metadata": {},
     "output_type": "execute_result"
    }
   ],
   "source": [
    "m=[[1,2],[2,3]] #nested lists can be used to represent a matrix\n",
    "m[0][1]"
   ]
  },
  {
   "cell_type": "code",
   "execution_count": 10,
   "id": "e0e1464c",
   "metadata": {},
   "outputs": [
    {
     "data": {
      "text/plain": [
       "['hi', 'python', 2, 3.4, (5+6j), False]"
      ]
     },
     "execution_count": 10,
     "metadata": {},
     "output_type": "execute_result"
    }
   ],
   "source": [
    "l[5]=False #assignment changes the list i.e. LIST IS MUTABLE\n",
    "l"
   ]
  },
  {
   "cell_type": "code",
   "execution_count": 11,
   "id": "7dabae8e",
   "metadata": {},
   "outputs": [
    {
     "data": {
      "text/plain": [
       "[2, 3.4]"
      ]
     },
     "execution_count": 11,
     "metadata": {},
     "output_type": "execute_result"
    }
   ],
   "source": [
    "l1=l[2:4] #select multiple items by : argumnet\n",
    "l1"
   ]
  },
  {
   "cell_type": "code",
   "execution_count": 12,
   "id": "13a72972",
   "metadata": {},
   "outputs": [
    {
     "data": {
      "text/plain": [
       "['hi', 'python', 2, 3.4, (5+6j), False, 2, 3.4]"
      ]
     },
     "execution_count": 12,
     "metadata": {},
     "output_type": "execute_result"
    }
   ],
   "source": [
    "l2=l+l1\n",
    "l2"
   ]
  },
  {
   "cell_type": "code",
   "execution_count": 13,
   "id": "4d1faf6c",
   "metadata": {},
   "outputs": [
    {
     "data": {
      "text/plain": [
       "[2, 3.4, 2, 3.4, 'hi', 'python', 2, 3.4, (5+6j), False]"
      ]
     },
     "execution_count": 13,
     "metadata": {},
     "output_type": "execute_result"
    }
   ],
   "source": [
    "l2=2*l1+l\n",
    "l2"
   ]
  },
  {
   "cell_type": "code",
   "execution_count": 14,
   "id": "de6652ec",
   "metadata": {},
   "outputs": [
    {
     "data": {
      "text/plain": [
       "['p', 'y', 't', 'h']"
      ]
     },
     "execution_count": 14,
     "metadata": {},
     "output_type": "execute_result"
    }
   ],
   "source": [
    "p=p[:4]\n",
    "p"
   ]
  },
  {
   "cell_type": "code",
   "execution_count": 15,
   "id": "6640d2f4",
   "metadata": {},
   "outputs": [
    {
     "data": {
      "text/plain": [
       "(True, False)"
      ]
     },
     "execution_count": 15,
     "metadata": {},
     "output_type": "execute_result"
    }
   ],
   "source": [
    "'t' in p , 'o' in p"
   ]
  },
  {
   "cell_type": "code",
   "execution_count": 16,
   "id": "4170459c",
   "metadata": {},
   "outputs": [
    {
     "data": {
      "text/plain": [
       "10"
      ]
     },
     "execution_count": 16,
     "metadata": {},
     "output_type": "execute_result"
    }
   ],
   "source": [
    "len(l2) #len() gives number of items in list "
   ]
  },
  {
   "cell_type": "code",
   "execution_count": 18,
   "id": "0e5c7206",
   "metadata": {},
   "outputs": [
    {
     "data": {
      "text/plain": [
       "['p', 'y', 't', 'h', 'o', 'o']"
      ]
     },
     "execution_count": 18,
     "metadata": {},
     "output_type": "execute_result"
    }
   ],
   "source": [
    "p.append('o')\n",
    "p"
   ]
  },
  {
   "cell_type": "code",
   "execution_count": 48,
   "id": "afcc5b35",
   "metadata": {},
   "outputs": [
    {
     "data": {
      "text/plain": [
       "['p', 'y', 't', 'h', 'o', 'n', 'hi']"
      ]
     },
     "execution_count": 48,
     "metadata": {},
     "output_type": "execute_result"
    }
   ],
   "source": [
    "p.extend(['n','hi'])\n",
    "p"
   ]
  },
  {
   "cell_type": "code",
   "execution_count": 49,
   "id": "91363988",
   "metadata": {
    "scrolled": true
   },
   "outputs": [
    {
     "data": {
      "text/plain": [
       "['hi', 'p', 'y', 't', 'h', 'o', 'n']"
      ]
     },
     "execution_count": 49,
     "metadata": {},
     "output_type": "execute_result"
    }
   ],
   "source": [
    "p.insert(0,p[-1])\n",
    "p.pop(-1)\n",
    "p"
   ]
  },
  {
   "cell_type": "code",
   "execution_count": 19,
   "id": "8ae58e29",
   "metadata": {},
   "outputs": [
    {
     "data": {
      "text/plain": [
       "[1, 2, 3, 4, 5, 6, 7, 8, 9]"
      ]
     },
     "execution_count": 19,
     "metadata": {},
     "output_type": "execute_result"
    }
   ],
   "source": [
    "l=list(range(1,10))\n",
    "l"
   ]
  },
  {
   "cell_type": "markdown",
   "id": "f092f0b9",
   "metadata": {},
   "source": [
    "## tupels\n",
    "similar to list but immutable"
   ]
  },
  {
   "cell_type": "code",
   "execution_count": 50,
   "id": "a0383ea2",
   "metadata": {},
   "outputs": [
    {
     "data": {
      "text/plain": [
       "('hi', 'python', 2, 3.4, (5+6j), False)"
      ]
     },
     "execution_count": 50,
     "metadata": {},
     "output_type": "execute_result"
    }
   ],
   "source": [
    "t=tuple(l)\n",
    "t"
   ]
  },
  {
   "cell_type": "markdown",
   "id": "13e82c48",
   "metadata": {},
   "source": [
    "## sets\n",
    "they should have unique items and is unodered"
   ]
  },
  {
   "cell_type": "code",
   "execution_count": 52,
   "id": "7829d003",
   "metadata": {},
   "outputs": [
    {
     "name": "stdout",
     "output_type": "stream",
     "text": [
      "{1, (2+3j), 4.5, 'e'}\n"
     ]
    }
   ],
   "source": [
    "st={1,'e',2+3j,4.5}\n",
    "print(st)"
   ]
  },
  {
   "cell_type": "code",
   "execution_count": 53,
   "id": "0524c385",
   "metadata": {},
   "outputs": [],
   "source": [
    "st1=st.copy() # if copy is not used st1 and st will have same values\n",
    "st1.add('hi')"
   ]
  },
  {
   "cell_type": "code",
   "execution_count": 54,
   "id": "9d43cd4d",
   "metadata": {},
   "outputs": [
    {
     "name": "stdout",
     "output_type": "stream",
     "text": [
      "{1, 4.5, (2+3j), 'hi'}\n"
     ]
    }
   ],
   "source": [
    "st1.discard('e')\n",
    "print(st1)"
   ]
  },
  {
   "cell_type": "code",
   "execution_count": 55,
   "id": "8b0a2bde",
   "metadata": {},
   "outputs": [
    {
     "data": {
      "text/plain": [
       "{(2+3j), 1, 4.5, 'e', 'hi'}"
      ]
     },
     "execution_count": 55,
     "metadata": {},
     "output_type": "execute_result"
    }
   ],
   "source": [
    "st|st1 # | for union"
   ]
  },
  {
   "cell_type": "code",
   "execution_count": 56,
   "id": "986e5884",
   "metadata": {},
   "outputs": [
    {
     "data": {
      "text/plain": [
       "{(2+3j), 1, 4.5}"
      ]
     },
     "execution_count": 56,
     "metadata": {},
     "output_type": "execute_result"
    }
   ],
   "source": [
    "st&st1 #& for intersection"
   ]
  },
  {
   "cell_type": "markdown",
   "id": "5409b713",
   "metadata": {},
   "source": [
    "similarly: - for difference, ^ for symetric difference i.e (a-b U b-a)"
   ]
  },
  {
   "cell_type": "markdown",
   "id": "a1ddf14e",
   "metadata": {},
   "source": [
    "#  if and loops"
   ]
  },
  {
   "cell_type": "markdown",
   "id": "b1108a2f",
   "metadata": {},
   "source": [
    "## if esle elif statements:"
   ]
  },
  {
   "cell_type": "markdown",
   "id": "74fe16bb",
   "metadata": {},
   "source": [
    ">`if (condition):  (dont forget ':' at end)`\n",
    ">> things to do  \n",
    "\n",
    ">`elif (condition):`\n",
    ">>things to do  \n",
    "\n",
    ">`else:`\n",
    ">>things to do"
   ]
  },
  {
   "cell_type": "code",
   "execution_count": 9,
   "id": "d191cb3d",
   "metadata": {},
   "outputs": [
    {
     "name": "stdout",
     "output_type": "stream",
     "text": [
      "x =4\n",
      "x is positive\n"
     ]
    }
   ],
   "source": [
    "#eg\n",
    "x=float(input('x ='))\n",
    "if x>0:\n",
    "    print('x is positive')\n",
    "elif x==0:\n",
    "    print('x = 0')\n",
    "else:\n",
    "    print('x is negative')"
   ]
  },
  {
   "cell_type": "markdown",
   "id": "207d74dd",
   "metadata": {},
   "source": [
    "## for loop:  \n",
    ">`for (conditions) :  (dont forget ':' at end)`\n",
    ">>things to do  \n",
    ">>`update in variables`"
   ]
  },
  {
   "cell_type": "code",
   "execution_count": 58,
   "id": "d43ab1b9",
   "metadata": {},
   "outputs": [
    {
     "name": "stdout",
     "output_type": "stream",
     "text": [
      "1\n",
      "2\n",
      "3\n",
      "4\n",
      "5\n",
      "6\n"
     ]
    }
   ],
   "source": [
    "x=[1,2,3,4,5,6] #this is a list\n",
    "for i in x:\n",
    "    print(i)"
   ]
  },
  {
   "cell_type": "code",
   "execution_count": 59,
   "id": "6c29fb79",
   "metadata": {
    "scrolled": false
   },
   "outputs": [
    {
     "name": "stdout",
     "output_type": "stream",
     "text": [
      "0\n",
      "1\n",
      "2\n",
      "3\n",
      "4\n",
      "5\n",
      "6\n"
     ]
    }
   ],
   "source": [
    "for x in range(7):  #range(i,j)=[i,i+1,....,j-1] , range(i)=[0,1,2....,i-1]\n",
    "    print(x)"
   ]
  },
  {
   "cell_type": "markdown",
   "id": "67b1a332",
   "metadata": {},
   "source": [
    "## while loop"
   ]
  },
  {
   "cell_type": "markdown",
   "id": "1a686148",
   "metadata": {},
   "source": [
    ">`while (condition):` \n",
    ">> things to do while condition is true<br>\n",
    ">>`change in variable`"
   ]
  },
  {
   "cell_type": "code",
   "execution_count": 62,
   "id": "85e77a06",
   "metadata": {
    "scrolled": true
   },
   "outputs": [
    {
     "name": "stdout",
     "output_type": "stream",
     "text": [
      "4\n",
      "3\n",
      "2\n",
      "1\n"
     ]
    }
   ],
   "source": [
    "x=4\n",
    "while x>0:\n",
    "    print(x)\n",
    "    x=x-1"
   ]
  },
  {
   "cell_type": "code",
   "execution_count": 65,
   "id": "d2b40cc8",
   "metadata": {},
   "outputs": [
    {
     "name": "stdout",
     "output_type": "stream",
     "text": [
      "3\n",
      "2\n",
      "1\n",
      "0\n",
      "-1\n"
     ]
    }
   ],
   "source": [
    "# use break to break the loop arbitrarily if condition holds\n",
    "x=3\n",
    "while (x!=-10):\n",
    "    print (x)\n",
    "    if x<0:\n",
    "        break\n",
    "    x=x-1"
   ]
  },
  {
   "cell_type": "markdown",
   "id": "5e7ca594",
   "metadata": {},
   "source": [
    "# input statements"
   ]
  },
  {
   "cell_type": "code",
   "execution_count": 60,
   "id": "68f53819",
   "metadata": {},
   "outputs": [
    {
     "name": "stdout",
     "output_type": "stream",
     "text": [
      "give value for x dsd\n",
      "dsd\n"
     ]
    }
   ],
   "source": [
    "x= input('give value for x ') # here input ('statement') displays statement and take the entered value as x\n",
    "print(x) # by defualt it is stored as string"
   ]
  },
  {
   "cell_type": "code",
   "execution_count": 61,
   "id": "fd1f7746",
   "metadata": {
    "scrolled": true
   },
   "outputs": [
    {
     "name": "stdout",
     "output_type": "stream",
     "text": [
      "x=4\n"
     ]
    }
   ],
   "source": [
    "# to convert to other type use int() for integers float() for real numbers\n",
    "x=int(input('x='))"
   ]
  },
  {
   "cell_type": "markdown",
   "id": "d75ca85f",
   "metadata": {},
   "source": [
    "# List comprehensions\n",
    " `L=[items loopto iterate conditions]`"
   ]
  },
  {
   "cell_type": "code",
   "execution_count": 20,
   "id": "4335b32b",
   "metadata": {},
   "outputs": [],
   "source": [
    "l=list(range(1,100))"
   ]
  },
  {
   "cell_type": "code",
   "execution_count": 21,
   "id": "43dcfc87",
   "metadata": {
    "scrolled": false
   },
   "outputs": [
    {
     "name": "stdout",
     "output_type": "stream",
     "text": [
      "[1, 5, 9, 13, 17, 21, 25, 29, 33, 37, 41, 45, 49, 53, 57, 61, 65, 69, 73, 77, 81, 85, 89, 93, 97]\n"
     ]
    }
   ],
   "source": [
    "l1=[n for n in l if n%4==1] \n",
    "print(l1)"
   ]
  },
  {
   "cell_type": "code",
   "execution_count": 11,
   "id": "c2fb30ad",
   "metadata": {},
   "outputs": [
    {
     "data": {
      "text/plain": [
       "[[1, 0, 0, 0, 0],\n",
       " [0, 1, 0, 0, 0],\n",
       " [0, 0, 1, 0, 0],\n",
       " [0, 0, 0, 1, 0],\n",
       " [0, 0, 0, 0, 1]]"
      ]
     },
     "execution_count": 11,
     "metadata": {},
     "output_type": "execute_result"
    }
   ],
   "source": [
    "ll1=[]\n",
    "for n in range(5):\n",
    "    ll1.append([])\n",
    "    for n1 in range(5):\n",
    "        if n==n1:\n",
    "            ll1[n].append(1)\n",
    "        else:\n",
    "            ll1[n].append(0)\n",
    "ll1"
   ]
  },
  {
   "cell_type": "code",
   "execution_count": 12,
   "id": "1c3c5283",
   "metadata": {},
   "outputs": [
    {
     "data": {
      "text/plain": [
       "[[1, 0, 0, 0, 0],\n",
       " [0, 1, 0, 0, 0],\n",
       " [0, 0, 1, 0, 0],\n",
       " [0, 0, 0, 1, 0],\n",
       " [0, 0, 0, 0, 1]]"
      ]
     },
     "execution_count": 12,
     "metadata": {},
     "output_type": "execute_result"
    }
   ],
   "source": [
    "#same can be easily done with list comprehensions\n",
    "ll2=[[1 if n1==n else 0 for n1 in range(5)] for n in range(5)]\n",
    "ll2"
   ]
  },
  {
   "cell_type": "markdown",
   "id": "a47abc63",
   "metadata": {},
   "source": [
    "# Functions\n",
    "`def function_name(var1,var2=default value,val3*):`\n",
    ">things to do  \n",
    ">`return values`"
   ]
  },
  {
   "cell_type": "code",
   "execution_count": 25,
   "id": "4f1adbc4",
   "metadata": {},
   "outputs": [
    {
     "data": {
      "text/plain": [
       "[[1, 0, 0, 0, 0, 0, 0],\n",
       " [0, 1, 0, 0, 0, 0, 0],\n",
       " [0, 0, 1, 0, 0, 0, 0],\n",
       " [0, 0, 0, 1, 0, 0, 0],\n",
       " [0, 0, 0, 0, 1, 0, 0],\n",
       " [0, 0, 0, 0, 0, 1, 0],\n",
       " [0, 0, 0, 0, 0, 0, 1]]"
      ]
     },
     "execution_count": 25,
     "metadata": {},
     "output_type": "execute_result"
    }
   ],
   "source": [
    "def iden(i):\n",
    "    I=[[1 if m==n else 0 for m in range(i)]for n in range(i)]\n",
    "    return I\n",
    "iden(7)"
   ]
  },
  {
   "cell_type": "markdown",
   "id": "0783b981",
   "metadata": {},
   "source": [
    "## lambda function\n",
    "a name less function written in a single line  \n",
    "`name= lambda var1,var2 : operations (values from here are returned)`"
   ]
  },
  {
   "cell_type": "code",
   "execution_count": 95,
   "id": "8053232f",
   "metadata": {},
   "outputs": [
    {
     "data": {
      "text/plain": [
       "[1, 8, 27, 2197, 35.937]"
      ]
     },
     "execution_count": 95,
     "metadata": {},
     "output_type": "execute_result"
    }
   ],
   "source": [
    "t=lambda x : [x[i]**3 for i in range(len(x))]\n",
    "t([1,2,3,13,3.3])"
   ]
  },
  {
   "cell_type": "code",
   "execution_count": 3,
   "id": "da52eb24",
   "metadata": {},
   "outputs": [
    {
     "data": {
      "text/plain": [
       "[[0, 0, 0, 0, 0, 0, 0, 0, 0, '-c0'],\n",
       " [1, 0, 0, 0, 0, 0, 0, 0, 0, '-c1'],\n",
       " [0, 1, 0, 0, 0, 0, 0, 0, 0, '-c2'],\n",
       " [0, 0, 1, 0, 0, 0, 0, 0, 0, '-c3'],\n",
       " [0, 0, 0, 1, 0, 0, 0, 0, 0, '-c4'],\n",
       " [0, 0, 0, 0, 1, 0, 0, 0, 0, '-c5'],\n",
       " [0, 0, 0, 0, 0, 1, 0, 0, 0, '-c6'],\n",
       " [0, 0, 0, 0, 0, 0, 1, 0, 0, '-c7'],\n",
       " [0, 0, 0, 0, 0, 0, 0, 1, 0, '-c8'],\n",
       " [0, 0, 0, 0, 0, 0, 0, 0, 1, '-c9']]"
      ]
     },
     "execution_count": 3,
     "metadata": {},
     "output_type": "execute_result"
    }
   ],
   "source": [
    "companion_mat= lambda i : [[1 if (m+1)==n else 0 for m in range(i-1)]+['-c'+str(n)] for n in range(i)] \n",
    "# here lambda function is coupled with list comprehension which shows its power in a single line!!\n",
    "companion_mat(10)"
   ]
  },
  {
   "cell_type": "markdown",
   "id": "796d8240",
   "metadata": {},
   "source": [
    "# Higher order functions\n",
    "these  are functions that take functions  \n",
    "following are some important inbuilt ones"
   ]
  },
  {
   "cell_type": "markdown",
   "id": "cb2f411c",
   "metadata": {},
   "source": [
    "# filter()\n",
    "`filter(function,values)`  \n",
    "gives all true or specified by functions evaluated on values  \n",
    "can be coupled with lambda functions to simplify codes  \n",
    "**use list()** or other to convert the output to desired format"
   ]
  },
  {
   "cell_type": "code",
   "execution_count": 18,
   "id": "d1b5c469",
   "metadata": {},
   "outputs": [
    {
     "data": {
      "text/plain": [
       "[34, 56, 75, 98, 65, 44, 23, 21, 27, 18]"
      ]
     },
     "execution_count": 18,
     "metadata": {},
     "output_type": "execute_result"
    }
   ],
   "source": [
    "age=[1,2,34,56,75,98,65,44,23,21,27,9,10,5,18]\n",
    "adults=list(filter(lambda x: x >= 18,age)) #dont use if for arguments in lambda function\n",
    "adults"
   ]
  },
  {
   "cell_type": "code",
   "execution_count": 30,
   "id": "612d39fc",
   "metadata": {},
   "outputs": [
    {
     "name": "stdout",
     "output_type": "stream",
     "text": [
      "[5, 34, 63, 92, 121, 150, 179, 208, 237, 266, 295, 324, 353, 382, 411, 440, 469, 498, 527, 556, 585, 614, 643, 672, 701, 730, 759, 788, 817, 846, 875, 904, 933, 962, 991]\n"
     ]
    }
   ],
   "source": [
    "N=list(range(1000))\n",
    "M_1_29=list(filter(lambda x:x%29==5,N))\n",
    "print(M_1_29)"
   ]
  },
  {
   "cell_type": "markdown",
   "id": "fb0135fd",
   "metadata": {},
   "source": [
    "## map\n",
    "`map(functions,values)`  \n",
    "evaluates function on values"
   ]
  },
  {
   "cell_type": "code",
   "execution_count": 123,
   "id": "d163a83b",
   "metadata": {},
   "outputs": [
    {
     "name": "stdout",
     "output_type": "stream",
     "text": [
      "[0.0, 1.0, 2.8284271247461903, 5.196152422706632, 8.0, 11.180339887498949, 14.696938456699069, 18.520259177452136, 22.627416997969522, 27.0, 31.622776601683793, 36.4828726939094, 41.569219381653056, 46.87216658103186]\n"
     ]
    }
   ],
   "source": [
    "num=list(range(14))\n",
    "num_3_2=list(map(lambda x : x**(3/2) ,num))\n",
    "print(num_3_2)"
   ]
  },
  {
   "cell_type": "code",
   "execution_count": 125,
   "id": "25f93dfa",
   "metadata": {},
   "outputs": [
    {
     "data": {
      "text/plain": [
       "[[[0, 0, 0, 0, '-c0'],\n",
       "  [1, 0, 0, 0, '-c1'],\n",
       "  [0, 1, 0, 0, '-c2'],\n",
       "  [0, 0, 1, 0, '-c3'],\n",
       "  [0, 0, 0, 1, '-c4']],\n",
       " [[0, 0, 0, 0, 0, '-c0'],\n",
       "  [1, 0, 0, 0, 0, '-c1'],\n",
       "  [0, 1, 0, 0, 0, '-c2'],\n",
       "  [0, 0, 1, 0, 0, '-c3'],\n",
       "  [0, 0, 0, 1, 0, '-c4'],\n",
       "  [0, 0, 0, 0, 1, '-c5']],\n",
       " [[0, 0, 0, 0, 0, 0, '-c0'],\n",
       "  [1, 0, 0, 0, 0, 0, '-c1'],\n",
       "  [0, 1, 0, 0, 0, 0, '-c2'],\n",
       "  [0, 0, 1, 0, 0, 0, '-c3'],\n",
       "  [0, 0, 0, 1, 0, 0, '-c4'],\n",
       "  [0, 0, 0, 0, 1, 0, '-c5'],\n",
       "  [0, 0, 0, 0, 0, 1, '-c6']]]"
      ]
     },
     "execution_count": 125,
     "metadata": {},
     "output_type": "execute_result"
    }
   ],
   "source": [
    "r=[5,6,7]\n",
    "cm=list(map(companion_mat,r))\n",
    "cm"
   ]
  },
  {
   "cell_type": "code",
   "execution_count": 127,
   "id": "6a837ff8",
   "metadata": {},
   "outputs": [
    {
     "name": "stdout",
     "output_type": "stream",
     "text": [
      "[<ufunc 'cos'>, <function e_2 at 0x7f5ceae6a340>, <ufunc 'cosh'>, <built-in function abs>, <class 'type'>]\n"
     ]
    }
   ],
   "source": [
    "# program to filter even functions\n",
    "import numpy as np\n",
    "import random\n",
    "def even_func(f):\n",
    "    x=100*np.random.random_sample(size=10)\n",
    "    #ptive=set(f(x))\n",
    "    #ntive=set(f(-x))\n",
    "    ptive=set(map(f,x))\n",
    "    ntive=set(map(f,-x))\n",
    "    if ptive==ntive:\n",
    "        return True\n",
    "    else:\n",
    "        return False\n",
    "# notice that even_func() is a higher order function \n",
    "def e(x):\n",
    "    return x\n",
    "def e_2(x):\n",
    "    return x*x\n",
    "ftns=[np.sin,np.cos,e,e_2,np.tanh,np.cosh,np.sinh,np.exp,abs,type] \n",
    "even_fnts=list(filter(even_func,ftns))\n",
    "print(even_fnts) "
   ]
  }
 ],
 "metadata": {
  "kernelspec": {
   "display_name": "Python 3 (ipykernel)",
   "language": "python",
   "name": "python3"
  },
  "language_info": {
   "codemirror_mode": {
    "name": "ipython",
    "version": 3
   },
   "file_extension": ".py",
   "mimetype": "text/x-python",
   "name": "python",
   "nbconvert_exporter": "python",
   "pygments_lexer": "ipython3",
   "version": "3.11.4"
  }
 },
 "nbformat": 4,
 "nbformat_minor": 5
}
