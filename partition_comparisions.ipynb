{
 "cells": [
  {
   "cell_type": "code",
   "execution_count": 100,
   "id": "cf736eca",
   "metadata": {},
   "outputs": [],
   "source": [
    "import numpy as np\n",
    "def effparti(n):\n",
    "    pat=np.array([1,1,2,3,5,7,11])\n",
    "    n=int(n)\n",
    "    if n<0  :\n",
    "        return 0 \n",
    "    elif n<7:\n",
    "        return pat[n]\n",
    "    else:\n",
    "        pt=np.array([1,1,2,3,5,7,11])\n",
    "        for j in range (7,n+1):\n",
    "            P=0\n",
    "            for i in range (1,j+1):\n",
    "                k1=int((i*(3*i+1))/2)\n",
    "                k2=int((i*(3*i-1))/2)\n",
    "                \n",
    "                if j-k1<0 and j-k2 <0:\n",
    "                    break\n",
    "                elif j-k1<0 :\n",
    "                    P+=((-1)**(i+1))*(pt[j-k2])\n",
    "                elif j-k2<0 :\n",
    "                    P+=((-1)**(i+1))*(pt[j-k1])\n",
    "                else:\n",
    "#                     print(j-k1,j-k2)\n",
    "#                     print(P)\n",
    "                    P+=((-1)**(i+1))*(pt[j-k1]+pt[j-k2])# eulers formula iteration\n",
    "            pt=np.insert(pt,len(pt),P)\n",
    "#             print(pt)\n",
    "        return P "
   ]
  },
  {
   "cell_type": "code",
   "execution_count": 101,
   "id": "3c12d8c4",
   "metadata": {},
   "outputs": [],
   "source": [
    "def efparti(n):\n",
    "    pat=[1,1,2,3,5,7,11]\n",
    "    n=int(n)\n",
    "    if n<0  :\n",
    "        return 0 \n",
    "    elif n<7:\n",
    "        return pat[n]\n",
    "    else:\n",
    "        pt=pat\n",
    "        for j in range (7,n+1):\n",
    "            P=0\n",
    "            for i in range (1,j+1):\n",
    "                k1=int((i*(3*i+1))/2)\n",
    "                k2=int((i*(3*i-1))/2)\n",
    "                if j-k1<0 and j-k2 <0:\n",
    "                    break\n",
    "                elif j-k1<0 :\n",
    "                    P+=((-1)**(i+1))*(pt[j-k2])\n",
    "                elif j-k2<0 :\n",
    "                    P+=((-1)**(i+1))*(pt[j-k1])\n",
    "                else:\n",
    "                    P+=((-1)**(i+1))*(pt[j-k1]+pt[j-k2]) # eulerss formula iteration\n",
    "            pt.append(P)\n",
    "        return P "
   ]
  },
  {
   "cell_type": "code",
   "execution_count": 102,
   "id": "6d251e62",
   "metadata": {},
   "outputs": [
    {
     "name": "stdout",
     "output_type": "stream",
     "text": [
      "n=100\n",
      "The number of partitions for 100 by efparti() is 190569292\n",
      "run time = 0.0024499893188476562  s\n",
      "The number of partitions for 100 by effparti() is 190569292\n",
      "run time = 0.015529394149780273  s\n"
     ]
    }
   ],
   "source": [
    "import time as tm\n",
    "n=int(input('n='))\n",
    "itf=tm.time()\n",
    "pf=efparti(n)\n",
    "ftf=tm.time()\n",
    "itff=tm.time()\n",
    "pff=effparti(n)\n",
    "ftff=tm.time()\n",
    "print('The number of partitions for',n,'by efparti() is',pf)\n",
    "print('run time =',ftf-itf,' s')\n",
    "print('The number of partitions for',n,'by effparti() is',pff)\n",
    "print('run time =',ftff-itff,' s')"
   ]
  }
 ],
 "metadata": {
  "kernelspec": {
   "display_name": "Python 3 (ipykernel)",
   "language": "python",
   "name": "python3"
  },
  "language_info": {
   "codemirror_mode": {
    "name": "ipython",
    "version": 3
   },
   "file_extension": ".py",
   "mimetype": "text/x-python",
   "name": "python",
   "nbconvert_exporter": "python",
   "pygments_lexer": "ipython3",
   "version": "3.11.4"
  }
 },
 "nbformat": 4,
 "nbformat_minor": 5
}
