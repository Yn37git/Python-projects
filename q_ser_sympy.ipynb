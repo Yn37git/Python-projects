{
 "cells": [
  {
   "cell_type": "markdown",
   "id": "428ddc74",
   "metadata": {},
   "source": [
    "# Basic $q$ series representations\n",
    "---\n",
    "- we define $(a;q)_n=(1-a)(1-aq)\\dots (1-aq^{n-1})$  \n",
    "this if a type of Pochhammer notation of shifted factorial extended to base '$q$'\n",
    "- also $(q;q)_n=1-a)(1-aq)\\dots (1-q^{n})$ which is a very tipical notation \n",
    "- if $f_k=(q^k;q^k)_\\infty=(1-q^k)(1-q^{2k})\\dots(1-q^{nk})\\dots$\n",
    "---\n",
    "### now from partition theory we have:\n",
    "- ###  if $p(n)$ reprents the number of integer partitions of a non negative integer n then :  \n",
    "\n",
    "$ \\begin{align*}\n",
    "\\sum_{n=0}^\\infty p(n)q^n &= \\frac{1}{(q;q)_\\infty}=\\frac{1}{f_1}\\\\\n",
    "&=(1-q)^{-1}(1-q^2)^{-1}\\dots(1-q^n)^{-1}\\dots \\\\ \n",
    "&= (1+q+q^2+q^3+\\dots+q^n+\\dots)(1+q^2+q^4+q^6+\\dots+q^2n+\\dots)\\dots(1+q^n+q^{2n}+q^{3n}+\\dots)\\dots\\\\\n",
    "\\end{align*}$  \n",
    "\n",
    "  ( these expansions holds for $|q|<1$ )\n",
    "- when this last equation is restricted to say $q^m$ terms and no more, we can then expand and find coefficients of the terms to get $p(m)$ or other less terms ($<m$) \n",
    "---\n",
    "### restricted partitions  \n",
    "\n",
    "- a $l-regular$ partition of n is partition of n in which no part is a multiple of $l$ (a positive integer)\n",
    "- which in $q$ series can be represented as:\n",
    "- ###  if $b_l(n)$ reprents the number of integer partitions of a non negative integer n in which no part is divisible by $l$ then we have :   \n",
    "\n",
    "$ \\begin{align*}\n",
    "\\sum_{n=0}^\\infty b_l(n)q^n &= \\frac{(q^l;q^l)_\\infty}{(q;q)_\\infty}=\\frac{f_l}{f_1}\\\\\n",
    "&=(1-q)^{-1}(1-q^2)^{-1}\\dots(1-q^{l-1})^{-1}(1-q^{l+1})^{-1}\\dots (1-q^{2l-1})^{-1}(1-q^{2l+1})^{-1}\\dots\\\\ \n",
    "&= (1+q+q^2+\\dots)(1+q^2+q^4+\\dots)\\dots(1+q^{l-1}+q^{2(l-1)}+\\dots)(1+q^{l+1}+q^{2(l+1)}+\\dots)\\dots\\\\\n",
    "\\end{align*}$  \n",
    "\n",
    "---\n",
    "- a $(l,j)-regular$ partition of n is partition of n in which no part is a multiple of $l$ or $j$  \n",
    "(which are  positive integer and co-prime i.e $gcd(l,j)=1$)\n",
    "- which in $q$ series can be represented as:\n",
    "- ###  if $b_{(l,j)}(n)$ reprents the number of integer partitions of a non negative integer n in which no part is divisible by $l$ or $j$ , $gcd(l,j)=1$ then we have :  \n",
    "\n",
    "$ \\begin{align*}\n",
    "\\sum_{n=0}^\\infty b_{(l,j)}(n)q^n = &\\frac{(q^l;q^l)_\\infty (q^j;q^j)_\\infty}{(q;q)_\\infty (q^{jk};q^{jk})_\\infty}\n",
    "= \\frac{f_l f_j}{f_1 f_{lj}}\\\\\n",
    "=&(1-q)^{-1}(1-q^2)^{-1}\\dots(1-q^{l-1})^{-1}(1-q^{l+1})^{-1}\\dots (1-q^{j-1})^{-1}(1-q^{j+1})^{-1}\\dots\\\\\n",
    "=& (1+q+q^2+\\dots)(1+q^2+q^4+\\dots)\\dots(1+q^{l-1}+q^{2(l-1)}+\\dots)(1+q^{l+1}+q^{2(l+1)}+\\dots)\\dots\\\\&(1+q^{j-1}+q^{2(j-1)}+\\dots)(1+q^{j+1}+q^{2(j+1)}+\\dots)\\dots\\\\\n",
    "\\end{align*} $   "
   ]
  },
  {
   "cell_type": "code",
   "execution_count": 1,
   "id": "19d62504",
   "metadata": {},
   "outputs": [],
   "source": [
    "from sympy import *\n",
    "from IPython.display import display # to display well written mathematical expressions"
   ]
  },
  {
   "cell_type": "code",
   "execution_count": 2,
   "id": "221d40a8",
   "metadata": {},
   "outputs": [],
   "source": [
    "q=symbols('q') # the only symbol we will use"
   ]
  },
  {
   "cell_type": "code",
   "execution_count": 2,
   "id": "2597725d",
   "metadata": {},
   "outputs": [],
   "source": [
    "def f(k,n=10): \n",
    "    ''' f here takes k for q**k multiples i.e. f(k)=fk=(q^k;q^k)n as mentioned above and n for number of \n",
    "    terms to restrict for i.e. till q^n ''' \n",
    "    \n",
    "    k=int(k)\n",
    "    u=1\n",
    "    for i in range(1,n+1):\n",
    "    # creates a experssion like (1+q^k+q^2k...)(1+q^2k+q^4k....)...(1+q^mk...) till q^n is reached\n",
    "        v=0\n",
    "        j=0\n",
    "        d=0\n",
    "        while d<n+1:\n",
    "        # actual practical use of while loop (in a long time !-)\n",
    "            d=k*i*(j+1)\n",
    "            v+=q**(k*i*j)\n",
    "            j+=1\n",
    "        u*=v\n",
    "        \n",
    "    qser=u\n",
    "    qqq=qser.args #extracts each multiplicative term \n",
    "    x=1\n",
    "    \n",
    "    for i in qqq:\n",
    "    # expands the multiplicative expression efficiently to additiveterms only till q^n is reached only\n",
    "    \n",
    "        p=x*i\n",
    "        p1=expand(p)\n",
    "        #dp.display(p1)\n",
    "        p2=p1.args\n",
    "        p3=0\n",
    "        for i in p2:\n",
    "            j=i.args\n",
    "            if len(j)==0 or len(j)==1: # for constants or q (q**1) only terms\n",
    "                p3=Add(p3,i)\n",
    "            else:\n",
    "                try: \n",
    "                    if j[-1]<=n: # for q**m terms \n",
    "                        p3=Add(p3,i)\n",
    "                except:\n",
    "                    pass\n",
    "                try:\n",
    "                    if j[-1].args[-1]<=n: # for c*q**m terms\n",
    "                        p3=Add(p3,i)\n",
    "                except:\n",
    "                    pass\n",
    "        x=p3\n",
    "    return x"
   ]
  },
  {
   "cell_type": "code",
   "execution_count": 4,
   "id": "b1e52bbe",
   "metadata": {},
   "outputs": [
    {
     "name": "stdout",
     "output_type": "stream",
     "text": [
      "n = 37\n"
     ]
    },
    {
     "data": {
      "text/latex": [
       "$\\displaystyle 21637 q^{37} + 17977 q^{36} + 14883 q^{35} + 12310 q^{34} + 10143 q^{33} + 8349 q^{32} + 6842 q^{31} + 5604 q^{30} + 4565 q^{29} + 3718 q^{28} + 3010 q^{27} + 2436 q^{26} + 1958 q^{25} + 1575 q^{24} + 1255 q^{23} + 1002 q^{22} + 792 q^{21} + 627 q^{20} + 490 q^{19} + 385 q^{18} + 297 q^{17} + 231 q^{16} + 176 q^{15} + 135 q^{14} + 101 q^{13} + 77 q^{12} + 56 q^{11} + 42 q^{10} + 30 q^{9} + 22 q^{8} + 15 q^{7} + 11 q^{6} + 7 q^{5} + 5 q^{4} + 3 q^{3} + 2 q^{2} + q + 1$"
      ],
      "text/plain": [
       "21637*q**37 + 17977*q**36 + 14883*q**35 + 12310*q**34 + 10143*q**33 + 8349*q**32 + 6842*q**31 + 5604*q**30 + 4565*q**29 + 3718*q**28 + 3010*q**27 + 2436*q**26 + 1958*q**25 + 1575*q**24 + 1255*q**23 + 1002*q**22 + 792*q**21 + 627*q**20 + 490*q**19 + 385*q**18 + 297*q**17 + 231*q**16 + 176*q**15 + 135*q**14 + 101*q**13 + 77*q**12 + 56*q**11 + 42*q**10 + 30*q**9 + 22*q**8 + 15*q**7 + 11*q**6 + 7*q**5 + 5*q**4 + 3*q**3 + 2*q**2 + q + 1"
      ]
     },
     "metadata": {},
     "output_type": "display_data"
    }
   ],
   "source": [
    "n=int(input('n = '))\n",
    "display(f(1,n))"
   ]
  },
  {
   "cell_type": "code",
   "execution_count": 5,
   "id": "66722ddb",
   "metadata": {},
   "outputs": [],
   "source": [
    "def f_l(k,n=10):\n",
    "    ''' f_l(k) represents (q^k;q^k)n/(q;q)n = fk/f1 i.e. q^m terms where m is not a multiple of '''\n",
    "    k=int(k)\n",
    "    u=1\n",
    "\n",
    "    for i in range(1,n+1):\n",
    "        v=0\n",
    "        j=0\n",
    "        d=0\n",
    "        if i%k!=0: # rejects multiple of k terms \n",
    "            while d<n+1: \n",
    "                v+=q**(d)\n",
    "                j+=1\n",
    "                d=i*j\n",
    "            u*=v\n",
    "    \n",
    "    qser=u\n",
    "    qqq=qser.args\n",
    "    x=1\n",
    "    for i in qqq:\n",
    "        p=x*i\n",
    "        p1=expand(p)\n",
    "        #dp.display(p1)\n",
    "        p2=p1.args\n",
    "        p3=0\n",
    "        for i in p2:\n",
    "            j=i.args\n",
    "            if len(j)==0 or len(j)==1:\n",
    "                p3=Add(p3,i)\n",
    "            else:\n",
    "                try:\n",
    "                    if j[-1]<=n:\n",
    "                        p3=Add(p3,i)\n",
    "                except:\n",
    "                    pass\n",
    "                try:\n",
    "                    if j[-1].args[-1]<=n:\n",
    "                        p3=Add(p3,i)\n",
    "                except:\n",
    "                    pass\n",
    "        x=p3\n",
    "    return x"
   ]
  },
  {
   "cell_type": "code",
   "execution_count": 6,
   "id": "eb53ffcf",
   "metadata": {},
   "outputs": [
    {
     "data": {
      "text/latex": [
       "$\\displaystyle 154293 q^{49} + 131388 q^{48} + 111652 q^{47} + 94788 q^{46} + 80295 q^{45} + 67948 q^{44} + 57360 q^{43} + 48378 q^{42} + 40689 q^{41} + 34193 q^{40} + 28648 q^{39} + 23980 q^{38} + 20006 q^{37} + 16680 q^{36} + 13851 q^{35} + 11496 q^{34} + 9501 q^{33} + 7848 q^{32} + 6450 q^{31} + 5302 q^{30} + 4331 q^{29} + 3540 q^{28} + 2874 q^{27} + 2334 q^{26} + 1881 q^{25} + 1519 q^{24} + 1213 q^{23} + 972 q^{22} + 770 q^{21} + 612 q^{20} + 479 q^{19} + 378 q^{18} + 292 q^{17} + 228 q^{16} + 174 q^{15} + 134 q^{14} + 100 q^{13} + 77 q^{12} + 56 q^{11} + 42 q^{10} + 30 q^{9} + 22 q^{8} + 15 q^{7} + 11 q^{6} + 7 q^{5} + 5 q^{4} + 3 q^{3} + 2 q^{2} + q + 1$"
      ],
      "text/plain": [
       "154293*q**49 + 131388*q**48 + 111652*q**47 + 94788*q**46 + 80295*q**45 + 67948*q**44 + 57360*q**43 + 48378*q**42 + 40689*q**41 + 34193*q**40 + 28648*q**39 + 23980*q**38 + 20006*q**37 + 16680*q**36 + 13851*q**35 + 11496*q**34 + 9501*q**33 + 7848*q**32 + 6450*q**31 + 5302*q**30 + 4331*q**29 + 3540*q**28 + 2874*q**27 + 2334*q**26 + 1881*q**25 + 1519*q**24 + 1213*q**23 + 972*q**22 + 770*q**21 + 612*q**20 + 479*q**19 + 378*q**18 + 292*q**17 + 228*q**16 + 174*q**15 + 134*q**14 + 100*q**13 + 77*q**12 + 56*q**11 + 42*q**10 + 30*q**9 + 22*q**8 + 15*q**7 + 11*q**6 + 7*q**5 + 5*q**4 + 3*q**3 + 2*q**2 + q + 1"
      ]
     },
     "execution_count": 6,
     "metadata": {},
     "output_type": "execute_result"
    }
   ],
   "source": [
    "f_l(13,49)"
   ]
  },
  {
   "cell_type": "code",
   "execution_count": 7,
   "id": "c3775949",
   "metadata": {},
   "outputs": [],
   "source": [
    "def f_l_j(k,l,n=10):\n",
    "    '''f_l_j(k,l) represents (ql;ql)n(qk;qk)n/(q;q)n(qkl;qkl)n = fk fl/f1 fkl \n",
    "    i.e. q^m terms for m not a multiple of k or l '''\n",
    "    \n",
    "    k=int(k)\n",
    "    l=int(l)\n",
    "    u=1\n",
    "\n",
    "    for i in range(1,n+1):\n",
    "        v=0\n",
    "        j=0\n",
    "        d=0\n",
    "        if i%k!=0 and i%l!=0 : # rejects multiple of k or l\n",
    "            while d<n+1: \n",
    "                v+=q**(d)\n",
    "                j+=1\n",
    "                d=i*j\n",
    "            u*=v\n",
    "\n",
    "    qser=u\n",
    "    qqq=qser.args\n",
    "    x=1\n",
    "    for i in qqq:\n",
    "        p=x*i\n",
    "        p1=expand(p)\n",
    "        #dp.display(p1)\n",
    "        p2=p1.args\n",
    "        p3=0\n",
    "        for i in p2:\n",
    "            j=i.args\n",
    "            if len(j)==0 or len(j)==1:\n",
    "                p3=Add(p3,i)\n",
    "            else:\n",
    "                try:\n",
    "                    if j[-1]<=n:\n",
    "                        p3=Add(p3,i)\n",
    "                except:\n",
    "                    pass\n",
    "                try:\n",
    "                    if j[-1].args[-1]<=n:\n",
    "                        p3=Add(p3,i)\n",
    "                except:\n",
    "                    pass\n",
    "        x=p3\n",
    "    return x"
   ]
  },
  {
   "cell_type": "code",
   "execution_count": 8,
   "id": "3d9c8868",
   "metadata": {
    "scrolled": true
   },
   "outputs": [
    {
     "data": {
      "text/latex": [
       "$\\displaystyle 5006 q^{50} + 4464 q^{49} + 3978 q^{48} + 3540 q^{47} + 3148 q^{46} + 2796 q^{45} + 2480 q^{44} + 2198 q^{43} + 1945 q^{42} + 1720 q^{41} + 1518 q^{40} + 1338 q^{39} + 1178 q^{38} + 1035 q^{37} + 909 q^{36} + 796 q^{35} + 696 q^{34} + 608 q^{33} + 530 q^{32} + 462 q^{31} + 401 q^{30} + 348 q^{29} + 301 q^{28} + 260 q^{27} + 224 q^{26} + 192 q^{25} + 165 q^{24} + 140 q^{23} + 120 q^{22} + 102 q^{21} + 86 q^{20} + 73 q^{19} + 61 q^{18} + 52 q^{17} + 43 q^{16} + 36 q^{15} + 30 q^{14} + 24 q^{13} + 20 q^{12} + 16 q^{11} + 13 q^{10} + 10 q^{9} + 8 q^{8} + 7 q^{7} + 5 q^{6} + 4 q^{5} + 3 q^{4} + 2 q^{3} + 2 q^{2} + q + 1$"
      ],
      "text/plain": [
       "5006*q**50 + 4464*q**49 + 3978*q**48 + 3540*q**47 + 3148*q**46 + 2796*q**45 + 2480*q**44 + 2198*q**43 + 1945*q**42 + 1720*q**41 + 1518*q**40 + 1338*q**39 + 1178*q**38 + 1035*q**37 + 909*q**36 + 796*q**35 + 696*q**34 + 608*q**33 + 530*q**32 + 462*q**31 + 401*q**30 + 348*q**29 + 301*q**28 + 260*q**27 + 224*q**26 + 192*q**25 + 165*q**24 + 140*q**23 + 120*q**22 + 102*q**21 + 86*q**20 + 73*q**19 + 61*q**18 + 52*q**17 + 43*q**16 + 36*q**15 + 30*q**14 + 24*q**13 + 20*q**12 + 16*q**11 + 13*q**10 + 10*q**9 + 8*q**8 + 7*q**7 + 5*q**6 + 4*q**5 + 3*q**4 + 2*q**3 + 2*q**2 + q + 1"
      ]
     },
     "execution_count": 8,
     "metadata": {},
     "output_type": "execute_result"
    }
   ],
   "source": [
    "f_l_j(3,4,50)"
   ]
  }
 ],
 "metadata": {
  "kernelspec": {
   "display_name": "Python 3 (ipykernel)",
   "language": "python",
   "name": "python3"
  },
  "language_info": {
   "codemirror_mode": {
    "name": "ipython",
    "version": 3
   },
   "file_extension": ".py",
   "mimetype": "text/x-python",
   "name": "python",
   "nbconvert_exporter": "python",
   "pygments_lexer": "ipython3",
   "version": "3.11.8"
  }
 },
 "nbformat": 4,
 "nbformat_minor": 5
}
