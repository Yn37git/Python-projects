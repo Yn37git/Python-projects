{
 "cells": [
  {
   "cell_type": "markdown",
   "id": "64ddebff",
   "metadata": {},
   "source": [
    "# Partition function $p(n)$\n",
    "+ a partition of positive integer n is a sequence of positive integers >0 whose sum is n\n",
    "+ $p(n)$ gives the total number of partitions of n that is possible\n",
    "+ we use euler's pentagonal theorem \n",
    "$$ p(n)-p(n-1)-p(n-2)+p(n-5)+p(n-7)+\\dots+(-1)^m[p(n-\\frac{1}{2}m(3m-1)+p(n-\\frac{1}{2}m(3m+1)]+\\dots = 0 $$\n",
    "+ this program is more efficient as it stores the previous values needed for the algoritims and calls them insead of recursion"
   ]
  },
  {
   "cell_type": "code",
   "execution_count": 1,
   "id": "82e5dae9",
   "metadata": {},
   "outputs": [],
   "source": [
    "def efparti(n):\n",
    "    pat=[1,1,2,3,5,7,11]\n",
    "    n=int(n)\n",
    "    if n<0  :\n",
    "        return 0 \n",
    "    elif n<7:\n",
    "        return pat[n]\n",
    "    else:\n",
    "        pt=pat\n",
    "        for j in range (7,n+1):\n",
    "            P=0\n",
    "            for i in range (1,j+1):\n",
    "                k1=int((i*(3*i+1))/2)\n",
    "                k2=int((i*(3*i-1))/2)\n",
    "                #print(k1,k2)\n",
    "                #print((j-k1),(j-k2),(-1)**(i+1))\n",
    "                if j-k1<0 and j-k2 <0:\n",
    "                    break\n",
    "                elif j-k1<0 :\n",
    "                    P+=((-1)**(i+1))*(pt[j-k2])\n",
    "                elif j-k2<0 :\n",
    "                    P+=((-1)**(i+1))*(pt[j-k1])\n",
    "                else:\n",
    "                    P+=((-1)**(i+1))*(pt[j-k1]+pt[j-k2]) # eulers formula iteration\n",
    "                #print('p(',n-k1,')=',parti(n-k1),'p(',n-k2,')=',parti(n-k2),P)\n",
    "            pt.append(P)\n",
    "        return P "
   ]
  },
  {
   "cell_type": "code",
   "execution_count": 4,
   "id": "5d747652",
   "metadata": {},
   "outputs": [
    {
     "name": "stdout",
     "output_type": "stream",
     "text": [
      "m=10000\n",
      "The number of partitions for 10000 is 36167251325636293988820471890953695495016030339315650422081868605887952568754066420592310556052906916435144\n",
      "run time = 0.5603747367858887  s\n"
     ]
    }
   ],
   "source": [
    "import time\n",
    "m=input('m=')\n",
    "s1=time.time()\n",
    "pm=efparti(m)\n",
    "e1=time.time()\n",
    "print('The number of partitions for',m,'is',pm)\n",
    "print('run time =',e1-s1,' s')"
   ]
  }
 ],
 "metadata": {
  "kernelspec": {
   "display_name": "Python 3 (ipykernel)",
   "language": "python",
   "name": "python3"
  },
  "language_info": {
   "codemirror_mode": {
    "name": "ipython",
    "version": 3
   },
   "file_extension": ".py",
   "mimetype": "text/x-python",
   "name": "python",
   "nbconvert_exporter": "python",
   "pygments_lexer": "ipython3",
   "version": "3.11.4"
  }
 },
 "nbformat": 4,
 "nbformat_minor": 5
}
