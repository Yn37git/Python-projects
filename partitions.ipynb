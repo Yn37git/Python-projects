{
 "cells": [
  {
   "cell_type": "markdown",
   "id": "30759aaa",
   "metadata": {},
   "source": [
    "# Partition"
   ]
  },
  {
   "cell_type": "code",
   "execution_count": 129,
   "id": "4bfcabd3",
   "metadata": {},
   "outputs": [
    {
     "name": "stdout",
     "output_type": "stream",
     "text": [
      "n=33\n",
      "The number of partitions for  33 is 10143\n"
     ]
    }
   ],
   "source": [
    "n=input('n=')\n",
    "n=int(n)\n",
    "pt=[1,1,2,3,5,7,11] #first 6 partitions with P(0)=1\n",
    "def parti(n):\n",
    "    n=int(n)\n",
    "    if n<0  :\n",
    "        return 0 \n",
    "    elif n<7:\n",
    "        return pt[n]\n",
    "    else:\n",
    "        P=0\n",
    "        for i in range (1,n+1):\n",
    "            k1=int((i*(3*i+1))/2)\n",
    "            k2=int((i*(3*i-1))/2)\n",
    "            #print(k1,k2)\n",
    "            #print((n-k1),(n-k2),(-1)**(i+1))\n",
    "            P+=((-1)**(i+1))*(parti(n-k1)+parti(n-k2)) # eulers formula iteration\n",
    "            #print('p(',n-k1,')=',parti(n-k1),'p(',n-k2,')=',parti(n-k2),P)\n",
    "            if n-k1<0 or n-k2 <0:\n",
    "                break\n",
    "        return P \n",
    "print('The number of partitions for ',n,'is',parti(n))"
   ]
  },
  {
   "cell_type": "code",
   "execution_count": null,
   "id": "46652bec",
   "metadata": {},
   "outputs": [],
   "source": []
  }
 ],
 "metadata": {
  "kernelspec": {
   "display_name": "Python 3 (ipykernel)",
   "language": "python",
   "name": "python3"
  },
  "language_info": {
   "codemirror_mode": {
    "name": "ipython",
    "version": 3
   },
   "file_extension": ".py",
   "mimetype": "text/x-python",
   "name": "python",
   "nbconvert_exporter": "python",
   "pygments_lexer": "ipython3",
   "version": "3.10.12"
  }
 },
 "nbformat": 4,
 "nbformat_minor": 5
}
